{
  "cells": [
    {
      "metadata": {
        "trusted": true
      },
      "cell_type": "code",
      "source": "# Practice If Condiction\n# 練習使用 if ",
      "execution_count": null,
      "outputs": []
    },
    {
      "metadata": {
        "trusted": true
      },
      "cell_type": "code",
      "source": "condiction_variable = 2\nif true :\n    print(\"over 0\")\n    ",
      "execution_count": 6,
      "outputs": [
        {
          "output_type": "error",
          "ename": "NameError",
          "evalue": "name 'true' is not defined",
          "traceback": [
            "\u001b[0;31m---------------------------------------------------------------------------\u001b[0m",
            "\u001b[0;31mNameError\u001b[0m                                 Traceback (most recent call last)",
            "\u001b[0;32m<ipython-input-6-9dfd04b70ac2>\u001b[0m in \u001b[0;36m<module>\u001b[0;34m\u001b[0m\n\u001b[1;32m      1\u001b[0m \u001b[0mcondiction_variable\u001b[0m \u001b[0;34m=\u001b[0m \u001b[0;36m2\u001b[0m\u001b[0;34m\u001b[0m\u001b[0m\n\u001b[0;32m----> 2\u001b[0;31m \u001b[0;32mif\u001b[0m \u001b[0mtrue\u001b[0m \u001b[0;34m:\u001b[0m\u001b[0;34m\u001b[0m\u001b[0m\n\u001b[0m\u001b[1;32m      3\u001b[0m     \u001b[0mprint\u001b[0m\u001b[0;34m(\u001b[0m\u001b[0;34m\"over 0\"\u001b[0m\u001b[0;34m)\u001b[0m\u001b[0;34m\u001b[0m\u001b[0m\n\u001b[1;32m      4\u001b[0m \u001b[0;34m\u001b[0m\u001b[0m\n",
            "\u001b[0;31mNameError\u001b[0m: name 'true' is not defined"
          ]
        }
      ]
    },
    {
      "metadata": {
        "trusted": true
      },
      "cell_type": "code",
      "source": "# Practice If else Condiction\n# 練習使用 if else",
      "execution_count": null,
      "outputs": []
    },
    {
      "metadata": {
        "trusted": true
      },
      "cell_type": "code",
      "source": "a = 2\nprint(a == 1)\nif a == 1 :\n    print(\"a = 1\")\n    \nelse : \n    print(\"a NO >  1\")\n    ",
      "execution_count": 3,
      "outputs": [
        {
          "output_type": "stream",
          "text": "False\na NO >  1\n",
          "name": "stdout"
        }
      ]
    },
    {
      "metadata": {
        "trusted": true
      },
      "cell_type": "code",
      "source": "# Practice if elif Condiction\n# 練習使用 if elif ",
      "execution_count": null,
      "outputs": []
    },
    {
      "metadata": {
        "trusted": true
      },
      "cell_type": "code",
      "source": "age = 2\n\nprint(age == 2)\n\nprint(\"你家狗狗的年龄\")\n\nif age < 0:\n    print(\"業障重!\")\nelif age == 1:\n    print(\" 相當於 14 歲的人。\")\nelif age == 2:\n    print(\" 相當於 22 歲的人。\")\nelif age > 2:\n    human = 22 + (age -2)*5\n    print(\" 相當於{}歲的人。: \".format(human))",
      "execution_count": null,
      "outputs": []
    },
    {
      "metadata": {
        "trusted": true
      },
      "cell_type": "code",
      "source": "# Practice 2",
      "execution_count": null,
      "outputs": []
    },
    {
      "metadata": {
        "trusted": true
      },
      "cell_type": "code",
      "source": "number = 3\n\nif number > 0: \n    print(\"number > 0\")\n    \nif number > 1 :\n    print(\"number > 1\") \n    \nif number > -1:\n    print(\"number > -1\")\n",
      "execution_count": 3,
      "outputs": [
        {
          "output_type": "stream",
          "text": "number > 0\nnumber > 1\nnumber > -1\n",
          "name": "stdout"
        }
      ]
    },
    {
      "metadata": {
        "trusted": true
      },
      "cell_type": "code",
      "source": "if number > 0:\n    print(\"number > 0\")\nelse :\n    print(\"number <= 0\")    \n    ",
      "execution_count": 4,
      "outputs": [
        {
          "output_type": "stream",
          "text": "number > 0\n",
          "name": "stdout"
        }
      ]
    },
    {
      "metadata": {
        "trusted": true
      },
      "cell_type": "code",
      "source": "if number > 0: \n    print(\"number > 0\")\n    \nelif number > 1 :\n    print(\"number > 1\") \n    \nelif number > -1:\n    print(\"number > -1\")",
      "execution_count": 5,
      "outputs": [
        {
          "output_type": "stream",
          "text": "number > 0\n",
          "name": "stdout"
        }
      ]
    },
    {
      "metadata": {
        "trusted": true
      },
      "cell_type": "code",
      "source": "if number > 0: \n    print(\"number > 0\")\n    \nelif number > 1 :\n    print(\"number > 1\") \nelse :  \n    print(\"number <= 0\")  ",
      "execution_count": 6,
      "outputs": [
        {
          "output_type": "stream",
          "text": "number > 0\n",
          "name": "stdout"
        }
      ]
    },
    {
      "metadata": {
        "trusted": true
      },
      "cell_type": "code",
      "source": "",
      "execution_count": null,
      "outputs": []
    },
    {
      "metadata": {
        "trusted": true
      },
      "cell_type": "code",
      "source": "",
      "execution_count": null,
      "outputs": []
    },
    {
      "metadata": {
        "trusted": true
      },
      "cell_type": "code",
      "source": "",
      "execution_count": null,
      "outputs": []
    }
  ],
  "metadata": {
    "kernelspec": {
      "name": "python36",
      "display_name": "Python 3.6",
      "language": "python"
    },
    "language_info": {
      "mimetype": "text/x-python",
      "nbconvert_exporter": "python",
      "name": "python",
      "pygments_lexer": "ipython3",
      "version": "3.6.6",
      "file_extension": ".py",
      "codemirror_mode": {
        "version": 3,
        "name": "ipython"
      }
    }
  },
  "nbformat": 4,
  "nbformat_minor": 2
}