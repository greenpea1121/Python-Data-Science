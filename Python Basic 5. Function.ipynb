{
  "cells": [
    {
      "metadata": {
        "trusted": true
      },
      "cell_type": "code",
      "source": "#Functions\n# 練習寫一個函式並調用",
      "execution_count": null,
      "outputs": []
    },
    {
      "metadata": {
        "trusted": true
      },
      "cell_type": "code",
      "source": "# 練習寫一個函式並調用\ndef I_Am_First_Function():\n    print(\"I am first function\")\n    print(1+1)",
      "execution_count": 1,
      "outputs": []
    },
    {
      "metadata": {
        "trusted": true
      },
      "cell_type": "code",
      "source": "# 練習調用呼叫該函式三次\nI_Am_First_Function()\nI_Am_First_Function()\nI_Am_First_Function()",
      "execution_count": 3,
      "outputs": [
        {
          "output_type": "stream",
          "text": "I am first function\n2\nI am first function\n2\nI am first function\n2\n",
          "name": "stdout"
        }
      ]
    },
    {
      "metadata": {
        "trusted": true
      },
      "cell_type": "code",
      "source": "",
      "execution_count": null,
      "outputs": []
    },
    {
      "metadata": {
        "trusted": true
      },
      "cell_type": "code",
      "source": "# 練習對函式使用輸入參數\ndef I_Am_Second_Function( input_1):\n    print(\"講笑話\")\n    print(\"我是笑話主角{}\".format(input_1))\n    \n    return (input_1)\n    ",
      "execution_count": 5,
      "outputs": []
    },
    {
      "metadata": {
        "trusted": true
      },
      "cell_type": "code",
      "source": "# 練習呼叫調用該函式 產生依輸入參數不同的輸出\nI_Am_Second_Function(\"1234\")\nI_Am_Second_Function(\"2234\")\nI_Am_Second_Function(\"3234\")",
      "execution_count": 6,
      "outputs": [
        {
          "output_type": "stream",
          "text": "講笑話\n我是笑話主角1234\n講笑話\n我是笑話主角2234\n講笑話\n我是笑話主角3234\n",
          "name": "stdout"
        },
        {
          "output_type": "execute_result",
          "execution_count": 6,
          "data": {
            "text/plain": "'3234'"
          },
          "metadata": {}
        }
      ]
    },
    {
      "metadata": {
        "trusted": true
      },
      "cell_type": "code",
      "source": "# 練習在函式內呼叫函式 並使用函式回傳值 \ndef I_Am_Third_Function(Input_3):\n    \n    print(\"Im input parameter:\")\n    print(Input_3)    \n    FuntionVariable = 1234\n    print(\"Im Function Variable:\")\n    print(FuntionVariable)\n\n    print(\"Call function I_Am_First_Function\")\n    I_Am_First_Function()\n    print(\"Call function I_Am_Second_Function\")    \n    Im_Result_SencondFunction = I_Am_Second_Function(Input_3)\n    print(Im_Result_SencondFunction)\n    ",
      "execution_count": 7,
      "outputs": []
    },
    {
      "metadata": {
        "trusted": true
      },
      "cell_type": "code",
      "source": "I_Am_Third_Function(2234)",
      "execution_count": 8,
      "outputs": [
        {
          "output_type": "stream",
          "text": "Im input parameter:\n2234\nIm Function Variable:\n1234\nCall function I_Am_First_Function\nI am first function\n2\nCall function I_Am_Second_Function\n講笑話\n我是笑話主角2234\n2234\n",
          "name": "stdout"
        }
      ]
    },
    {
      "metadata": {
        "trusted": true
      },
      "cell_type": "code",
      "source": "calling_result = I_Am_Third_Function(3)\nprint(calling_result)",
      "execution_count": 9,
      "outputs": [
        {
          "output_type": "stream",
          "text": "Im input parameter:\n3\nIm Function Variable:\n1234\nCall function I_Am_First_Function\nI am first function\n2\nCall function I_Am_Second_Function\n講笑話\n我是笑話主角3\n3\nNone\n",
          "name": "stdout"
        }
      ]
    },
    {
      "metadata": {
        "trusted": true
      },
      "cell_type": "code",
      "source": "# 練習第三個函式 並在其中使用迴圈\ndef Im_final_function(I_am_list_of_close_price):\n\n    find_highest_price = 0\n    # 使用輸入參數（任何可迭代物件）作為迴圈對象\n    for loop_number in I_am_list_of_close_price:\n        \n        if loop_number > find_highest_price:\n            find_highest_price = loop_number\n            \n        print(\"hight\")\n        print(find_highest_price)\n        print(\"day close\")\n        print(loop_number)",
      "execution_count": 17,
      "outputs": []
    },
    {
      "metadata": {
        "trusted": true
      },
      "cell_type": "code",
      "source": "\nclose_price_list = [20, 21, 22, 19, 25,18,17,26,10,8]\n\nIm_final_function(close_price_list)",
      "execution_count": 11,
      "outputs": [
        {
          "output_type": "stream",
          "text": "hight\n20\nday close\n20\nhight\n21\nday close\n21\nhight\n22\nday close\n22\nhight\n22\nday close\n19\nhight\n25\nday close\n25\nhight\n25\nday close\n18\nhight\n25\nday close\n17\nhight\n26\nday close\n26\nhight\n26\nday close\n10\nhight\n26\nday close\n8\n",
          "name": "stdout"
        }
      ]
    },
    {
      "metadata": {
        "trusted": true
      },
      "cell_type": "code",
      "source": "",
      "execution_count": null,
      "outputs": []
    }
  ],
  "metadata": {
    "kernelspec": {
      "name": "python36",
      "display_name": "Python 3.6",
      "language": "python"
    },
    "language_info": {
      "mimetype": "text/x-python",
      "nbconvert_exporter": "python",
      "name": "python",
      "pygments_lexer": "ipython3",
      "version": "3.6.6",
      "file_extension": ".py",
      "codemirror_mode": {
        "version": 3,
        "name": "ipython"
      }
    }
  },
  "nbformat": 4,
  "nbformat_minor": 2
}