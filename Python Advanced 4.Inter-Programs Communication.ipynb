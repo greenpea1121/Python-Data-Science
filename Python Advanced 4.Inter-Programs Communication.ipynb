{
  "cells": [
    {
      "metadata": {
        "collapsed": true,
        "trusted": false
      },
      "cell_type": "code",
      "source": "import socket\n\n\n#Socket Server \ns = socket.socket()         # 创建 socket 对象\nhost = socket.gethostname() # 获取本地主机名\nport = 12345                # 设置端口\ns.bind((host, port))        # 绑定端口\n \ns.listen(5)                 # 等待客户端连接\nwhile True:\n    c,addr = s.accept()     # 建立客户端连接\n    print '连接地址：', addr\n    c.send('欢迎访问菜鸟教程！')\n    c.close()                # 关闭连接\n    \n",
      "execution_count": null,
      "outputs": []
    },
    {
      "metadata": {
        "trusted": true
      },
      "cell_type": "code",
      "source": "#Socket Client\n \ns = socket.socket()         # 创建 socket 对象\nhost = socket.gethostname() # 获取本地主机名\nport = 12345                # 设置端口号\n \ns.connect((host, port))\nprint s.recv(1024)\ns.close()",
      "execution_count": null,
      "outputs": []
    }
  ],
  "metadata": {
    "kernelspec": {
      "name": "python36",
      "display_name": "Python 3.6",
      "language": "python"
    },
    "language_info": {
      "mimetype": "text/x-python",
      "nbconvert_exporter": "python",
      "name": "python",
      "pygments_lexer": "ipython3",
      "version": "3.6.6",
      "file_extension": ".py",
      "codemirror_mode": {
        "version": 3,
        "name": "ipython"
      }
    }
  },
  "nbformat": 4,
  "nbformat_minor": 2
}