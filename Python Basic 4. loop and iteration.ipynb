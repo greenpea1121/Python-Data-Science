{
  "cells": [
    {
      "metadata": {
        "trusted": true
      },
      "cell_type": "code",
      "source": "# For Loop\n# 練習迴圈 for ",
      "execution_count": null,
      "outputs": []
    },
    {
      "metadata": {
        "trusted": true
      },
      "cell_type": "code",
      "source": "# 將可迭代對象設為 range(10)\nfor loop_number in range(10):\n    print(loop_number)\n\n    \n# 將可迭代對象設為 list    \nString_List = [\"hello world 1234\", \"hello world 2234\",\"hello world 2 \",\"hello world 3 \"]    \nfor loop_string in String_List:\n    print(loop_string)    \n\n    \n# 將可迭代對象設為 list 的第一個元素 \"hello world 1234\"   \nfor loop_string in String_List[0]:\n    print(loop_string)\n    \n    \n    \n# 使用迴圈尋找list 資料中的最大值\nlist_close_price = [20, 21, 24, 20, 22, 19, 25]\nfind_highest_price = 0\n\nfor loop_number in list_close_price:\n    \n    # 若最高價格小於當下可迭代對象迴圈的值\n    if loop_number > find_highest_price:\n        find_highest_price = loop_number\n    \n    print(loop_number)\n    print(find_highest_price)",
      "execution_count": 1,
      "outputs": [
        {
          "output_type": "stream",
          "text": "range(0, 10)\n0\n1\n2\n3\n4\n5\n6\n7\n8\n9\nhello world 1234\nhello world 2234\nhello world 2 \nhello world 3 \nh\ne\nl\nl\no\n \nw\no\nr\nl\nd\n \n1\n2\n3\n4\n20\n20\n21\n21\n24\n24\n20\n24\n22\n24\n19\n24\n25\n25\n",
          "name": "stdout"
        }
      ]
    },
    {
      "metadata": {
        "trusted": true
      },
      "cell_type": "code",
      "source": "# 練習 while 迴圈\n# While Loop",
      "execution_count": null,
      "outputs": []
    },
    {
      "metadata": {
        "trusted": true
      },
      "cell_type": "code",
      "source": "print(\"While loop\")\nn = 5\n\n# 將 n 隨迴圈次數不斷減少 直到達成while 後的布林條件為false\nwhile n > 0:\n    n = n - 1\n    print(n)\n    \nprint('循環結束。')\n\n\n\n# 練習使用continue 跳過該次迴圈\nprint(\"Continue\")\nn = 5\nwhile n > 0:\n    n = n - 1\n    if n == 2:\n        continue\n    print(n)\nprint('循環結束。')\n\n\n# 練習使用 break 取消後繼迴圈\nprint(\"Break\")\nn = 5\nwhile n > 0:\n    n = n - 1\n    if n == 2:\n        break\n    print(n)\nprint('循環結束。')",
      "execution_count": 2,
      "outputs": [
        {
          "output_type": "stream",
          "text": "While loop\n4\n3\n2\n1\n0\n循環結束。\nContinue\n4\n3\n1\n0\n循環結束。\nBreak\n4\n3\n循環結束。\n",
          "name": "stdout"
        }
      ]
    },
    {
      "metadata": {
        "trusted": true
      },
      "cell_type": "code",
      "source": "#練習 while loop 自己設定條件 （請設定condiction_parameter1 condiction_parameter2 數值）\ncondiction_parameter1 = \ncondiction_parameter2 = \nloop_counter = 0\n\nwhile condiction_parameter1 > condiction_parameter2 :\n    \n    print(\"loop time : {}\".format(loop_counter))\n    print(\"condiction_parameter1 : {}\".format(condiction_parameter1))\n    print(\"condiction_parameter2 : {}\".format(condiction_parameter2))\n    loop_counter = loop_counter + 1\n    \n    # 填入 condiction_parameter1 condiction_parameter2 於每次迴圈的修正值\n",
      "execution_count": null,
      "outputs": []
    },
    {
      "metadata": {
        "trusted": true
      },
      "cell_type": "code",
      "source": "# 練習使用 while loop 寫交易條件檢查\nprint(\"While loop\")\nno_matter_what_sell = 50\ncurrent_price = 49\n\nwhile current_price > no_matter_what_sell:\n    print(\"做正常的交易\")\n    print(current_price)\n    \nprint(\"發LINE 通知主人\")\n",
      "execution_count": 15,
      "outputs": [
        {
          "output_type": "stream",
          "text": "While loop\n發LINE 通知主人\n",
          "name": "stdout"
        }
      ]
    }
  ],
  "metadata": {
    "kernelspec": {
      "name": "python36",
      "display_name": "Python 3.6",
      "language": "python"
    },
    "language_info": {
      "mimetype": "text/x-python",
      "nbconvert_exporter": "python",
      "name": "python",
      "pygments_lexer": "ipython3",
      "version": "3.6.6",
      "file_extension": ".py",
      "codemirror_mode": {
        "version": 3,
        "name": "ipython"
      }
    }
  },
  "nbformat": 4,
  "nbformat_minor": 2
}