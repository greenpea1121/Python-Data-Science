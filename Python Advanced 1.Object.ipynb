{
  "cells": [
    {
      "metadata": {
        "trusted": true
      },
      "cell_type": "code",
      "source": "def iamfunction(para1):\n    print(para1)\n\ndef iamfunction1(para1):\n    print(para1+para1)\n    \ndef iamfunction2(para1):\n    print(para1*para1)",
      "execution_count": 1,
      "outputs": []
    },
    {
      "metadata": {
        "trusted": true
      },
      "cell_type": "code",
      "source": "iamfunction(1234)\niamfunction1(1234)\niamfunction2(1234)\n\niamfunction(12345)\niamfunction1(12345)\niamfunction2(12345)",
      "execution_count": 18,
      "outputs": [
        {
          "output_type": "stream",
          "text": "1234\n2468\n1522756\n12345\n24690\n152399025\n",
          "name": "stdout"
        }
      ]
    },
    {
      "metadata": {
        "trusted": true
      },
      "cell_type": "code",
      "source": "# 物件的使用 - 物件的屬性與方法\n\n# Class \nclass MyClass:\n    \n    Class_Number = 12345\n    \n    def __init__(self,name_input):\n        self.Class_Number = name_input\n    \n    \n    def I_AM_Class_Function(self, method_input):\n        print(\"I am method input : {}\".format(method_input))\n        return 'Hello Class'\n    \n    def iamfunction0(self):\n        para1 = self.Class_Number\n        print(para1)\n\n    def iamfunction1(self):\n        para1 = self.Class_Number\n        print(para1+para1)\n    \n    def iamfunction2(self):\n        para1 = self.Class_Number\n        print(para1*para1)\n \nclass MyClass_2(MyClass):\n    \n    Class_Number = 0\n                \n    def __init__(self,name_input):\n        self.Class_Number = name_input\n    \n# 使用類的屬性\n#print(\"MyClass 的 Class_Number 為：\", Im_Class_Instance.Class_Number)\n# 使用類的方法\n#print(\"MyClass 的 I_AM_Class_Function 為：\", Im_Class_Instance.I_AM_Class_Function(123))",
      "execution_count": 14,
      "outputs": []
    },
    {
      "metadata": {
        "trusted": true
      },
      "cell_type": "code",
      "source": "MyClass.I_AM_Class_Function",
      "execution_count": 15,
      "outputs": [
        {
          "output_type": "execute_result",
          "execution_count": 15,
          "data": {
            "text/plain": "<function __main__.MyClass.I_AM_Class_Function(self, method_input)>"
          },
          "metadata": {}
        }
      ]
    },
    {
      "metadata": {
        "trusted": true
      },
      "cell_type": "code",
      "source": "Im_Class_Instance = MyClass(\"111\")\nIm_Class_Instance2 = MyClass(123456)",
      "execution_count": 22,
      "outputs": []
    },
    {
      "metadata": {
        "trusted": true
      },
      "cell_type": "code",
      "source": "print(Im_Class_Instance.Class_Number)\nIm_Class_Instance.I_AM_Class_Function(1234)\n",
      "execution_count": 23,
      "outputs": [
        {
          "output_type": "stream",
          "text": "111\nI am method input : 1234\n",
          "name": "stdout"
        },
        {
          "output_type": "execute_result",
          "execution_count": 23,
          "data": {
            "text/plain": "'Hello Class'"
          },
          "metadata": {}
        }
      ]
    },
    {
      "metadata": {
        "trusted": true
      },
      "cell_type": "code",
      "source": "print(Im_Class_Instance2.Class_Number)\nIm_Class_Instance2.I_AM_Class_Function(123)\nIm_Class_Instance2.iamfunction0()\nIm_Class_Instance2.iamfunction1()\nIm_Class_Instance2.iamfunction2()",
      "execution_count": 24,
      "outputs": [
        {
          "output_type": "stream",
          "text": "123456\nI am method input : 123\n123456\n246912\n15241383936\n",
          "name": "stdout"
        }
      ]
    },
    {
      "metadata": {
        "trusted": true
      },
      "cell_type": "code",
      "source": "Im_Class_Instance1 = MyClass(\"12345\")\nIm_Class_Instance2 = MyClass(\"22345\")\nIm_Class_Instance3 = MyClass(\"32345\")\n\nIm_Class_Instance1.Class_Number",
      "execution_count": 23,
      "outputs": [
        {
          "output_type": "execute_result",
          "execution_count": 23,
          "data": {
            "text/plain": "'12345'"
          },
          "metadata": {}
        }
      ]
    },
    {
      "metadata": {
        "trusted": true
      },
      "cell_type": "code",
      "source": "",
      "execution_count": null,
      "outputs": []
    },
    {
      "metadata": {
        "trusted": true
      },
      "cell_type": "code",
      "source": "",
      "execution_count": null,
      "outputs": []
    },
    {
      "metadata": {
        "trusted": true
      },
      "cell_type": "code",
      "source": "#繼承\n#父類別\nclass People_Class:\n    name = ''\n    age = 0\n    #定義類裡面的屬性，類的屬性只屬於類無法在外部調用\n    __weight = 0\n    #定義類裡面的初始構造方法\n    def __init__(self,name_input,age_input,weight_input):\n        self.name = name_input\n        self.age = age_input\n        self.__weight = weight_input       \n    #定義類裡面的構造函式\n    def speak(self):\n        print(\"%s 說: 我 %d 歲。\" %(self.name,self.age))",
      "execution_count": 28,
      "outputs": []
    },
    {
      "metadata": {
        "trusted": true
      },
      "cell_type": "code",
      "source": "#繼承People_Class父類別\nclass Student_Class(People_Class):\n    grade = ''\n    def __init__(self,name_input,age_input,weight_input,grade_input):\n        #調用父類別\n        People_Class.__init__(self,name_input,age_input,weight_input)\n        self.grade = grade_input\n    \n    # 新曾子物件功能\n    def study(self):\n        print(\"我是可愛的學生 我在在讀 {} 年级\".format(self.grade))\n\n    \n    #複寫父類別的方法\n    def speak(self):\n        print(\"%s 說: 我 %d 歲，我在在讀 %d 年级\"%(self.name,self.age,self.grade))\n    \n \n \nPeople_Instance = People_Class('runoob',10,30)\nPeople_Instance.speak()\nStudent_Instance = Student_Class('ken',10,60,3)\nStudent_Instance.speak()\nStudent_Instance.study()",
      "execution_count": 30,
      "outputs": [
        {
          "output_type": "stream",
          "text": "runoob 說: 我 10 歲。\nken 說: 我 10 歲，我在在讀 3 年级\n我是可愛的學生 我在在讀 3 年级\n",
          "name": "stdout"
        }
      ]
    },
    {
      "metadata": {
        "trusted": true
      },
      "cell_type": "code",
      "source": "People_Instance = People_Class('runoob',10,30)\nPeople_Instance.speak()\n#People_Instance.study()",
      "execution_count": 59,
      "outputs": [
        {
          "output_type": "stream",
          "text": "runoob 說: 我 10 歲。\n",
          "name": "stdout"
        }
      ]
    },
    {
      "metadata": {
        "trusted": true
      },
      "cell_type": "code",
      "source": "Student_Instance = Student_Class('ken',10,60,3)\nStudent_Instance.speak()\nStudent_Instance.study()",
      "execution_count": 60,
      "outputs": [
        {
          "output_type": "stream",
          "text": "ken 說: 我 10 歲。\n我是可愛的學生 我在在讀 3 年级\n",
          "name": "stdout"
        }
      ]
    },
    {
      "metadata": {
        "trusted": true
      },
      "cell_type": "code",
      "source": "",
      "execution_count": null,
      "outputs": []
    },
    {
      "metadata": {
        "trusted": true
      },
      "cell_type": "code",
      "source": "",
      "execution_count": null,
      "outputs": []
    },
    {
      "metadata": {
        "trusted": true
      },
      "cell_type": "code",
      "source": "#交易物件\n\nclass Integration_Trading_Object :\n\n    # 交易標的物名稱\n    Trading_Object_Name = \"\"\n    # 交易策略名稱 策略參數 Parameter for Customization Strategy Parameter\n    Strategy_Name = \"\"\n    \n    # 交易資料 Our tading data ie: price\n    Trading_Data = []\n    \n    # Saving Batch File for performance record\n    Saving_Parameter_Performance_Batch = []\n\n    # 使用__init__ 帶入建立物件實例時之物件屬性\n    def __init__(self, Trading_Object_Name_Input, Strategy_Name):\n        self.Trading_Object_Name = Trading_Object_Name_Input\n        self.Strategy_Name = Strategy_Name        \n    \n    # 定義交易策略方法\n    def Function_Define_Strategy(self, Customization_StrategyName=\"\",Customization_Parameter1, Customization_Parameter2):\n        \n        self.Strategy_Name = Customization_StrategyName\n        self.Customization_Parameter1 = Customization_Parameter1\n        self.Customization_Parameter2 = Customization_Parameter2\n            \n        print(\"Define Trading Strategy : {} \".format(self.Strategy_Name))\n        print(\"with strategy parameter : {} and {}\".format(self.Customization_Parameter1, self.Customization_Parameter2))\n\n    # 匯入交易資料方法\n    def Function_Put_TradingData(self, Trading_Object_Name_Input,Input_Trading_Data_Today, Input_Trading_Data_Yesterday): \n        self.Trading_Object_Name = Trading_Object_Name_Input\n        self.Trading_Data.append([Input_Trading_Data_Today, Input_Trading_Data_Yesterday])         \n\n        print(\"Trading on Target : {}\".format(self.Trading_Object_Name))            \n        print(\"with trading data : {}\".format(self.Trading_Data))\n        \n    # 執行交易邏輯    \n    def Function_RunTrading_CustomizeObject(self): \n\n        print(\"Trading on Target : {}\".format(self.Trading_Object_Name))\n        print(\"Using Trading Strategy : {} \".format(self.Strategy_Name))\n        \n        ResultIndex_Of_Strategy = (self.Customization_Parameter1*self.Trading_Data[-1][0] + self.Customization_Parameter2*self.Trading_Data[-1][1]) / (self.Customization_Parameter1 + self.Customization_Parameter2)\n        \n        print(\"trading data : {}\".format(self.Trading_Data))\n        print(\"Cauculate Result index : {}\".format(ResultIndex_Of_Strategy))\n        if ResultIndex_Of_Strategy > self.Trading_Data[-1][0] :\n            print(\"Do Buying\")\n        if ResultIndex_Of_Strategy < self.Trading_Data[-1][0] :\n            print(\"Do Selling\")\n\n        return ResultIndex_Of_Strategy\n\n    # 輸出交易結果\n    def Function_Plotting_CustomizeObject(self) : \n\n        print(\"Using Trading Strategy : {} \".format(self.Strategy_Name))\n        print(\"with strategy parameter : {} and {}\".format(self.Customization_Parameter1, self.Customization_Parameter2))\n        print(\"Trading on Target : {}\".format(self.Trading_Object_Name))            \n        print(\"with trading data : {}\".format(self.Trading_Data))\n        Result_Of_Strategy = self.Function_RunTrading_CustomizeObject()\n        print(\"Return Index : {}\".format(Result_Of_Strategy))",
      "execution_count": 7,
      "outputs": []
    },
    {
      "metadata": {
        "trusted": true
      },
      "cell_type": "code",
      "source": "class hihi(Integration_Trading_Object):\n    def yo(self):\n        return None\ntest123 = hihi(\"hihi\", \"hihihihih\")\ntest123.Strategy_Name",
      "execution_count": 11,
      "outputs": [
        {
          "output_type": "execute_result",
          "execution_count": 11,
          "data": {
            "text/plain": "'hihihihih'"
          },
          "metadata": {}
        }
      ]
    },
    {
      "metadata": {
        "trusted": true
      },
      "cell_type": "code",
      "source": "# 產生交易主物件\nTradingObject = Integration_Trading_Object(\"台股指數\",\"會賺錢的策略\")",
      "execution_count": 86,
      "outputs": []
    },
    {
      "metadata": {
        "trusted": true
      },
      "cell_type": "code",
      "source": "# 制定策略\nTradingObject.Function_Define_Strategy(\"會賺錢的策略\", 5, 10)",
      "execution_count": 87,
      "outputs": [
        {
          "output_type": "stream",
          "text": "Define Trading Strategy : 會賺錢的策略 \nwith strategy parameter : 5 and 10\n",
          "name": "stdout"
        }
      ]
    },
    {
      "metadata": {
        "trusted": true
      },
      "cell_type": "code",
      "source": "# 匯入交易資料\nTradingObject.Function_Put_TradingData(\"台股指數\", 110,120)",
      "execution_count": 88,
      "outputs": [
        {
          "output_type": "stream",
          "text": "Trading on Target : 台股指數\nwith trading data : [[110, 120]]\n",
          "name": "stdout"
        }
      ]
    },
    {
      "metadata": {
        "trusted": true
      },
      "cell_type": "code",
      "source": "#進行交易\nTradingObject.Function_RunTrading_CustomizeObject()",
      "execution_count": 89,
      "outputs": [
        {
          "output_type": "stream",
          "text": "Trading on Target : 台股指數\nUsing Trading Strategy : 會賺錢的策略 \ntrading data : [[110, 120]]\nCauculate Result index : 116.66666666666667\nDo Buying\n",
          "name": "stdout"
        },
        {
          "output_type": "execute_result",
          "execution_count": 89,
          "data": {
            "text/plain": "116.66666666666667"
          },
          "metadata": {}
        }
      ]
    },
    {
      "metadata": {
        "trusted": true
      },
      "cell_type": "code",
      "source": "#顯示交易結果\nTradingObject.Function_Plotting_CustomizeObject()",
      "execution_count": 97,
      "outputs": [
        {
          "output_type": "stream",
          "text": "Using Trading Strategy : 會賺錢的策略 \nwith strategy parameter : 5 and 10\nTrading on Target : 台股指數\nwith trading data : [[110, 120]]\nTrading on Target : 台股指數\nUsing Trading Strategy : 會賺錢的策略 \ntrading data : [[110, 120]]\nCauculate Result index : 116.66666666666667\nDo Buying\nReturn Index : 116.66666666666667\n",
          "name": "stdout"
        }
      ]
    },
    {
      "metadata": {
        "trusted": true
      },
      "cell_type": "code",
      "source": "",
      "execution_count": null,
      "outputs": []
    }
  ],
  "metadata": {
    "kernelspec": {
      "name": "python36",
      "display_name": "Python 3.6",
      "language": "python"
    },
    "language_info": {
      "mimetype": "text/x-python",
      "nbconvert_exporter": "python",
      "name": "python",
      "pygments_lexer": "ipython3",
      "version": "3.6.6",
      "file_extension": ".py",
      "codemirror_mode": {
        "version": 3,
        "name": "ipython"
      }
    }
  },
  "nbformat": 4,
  "nbformat_minor": 2
}