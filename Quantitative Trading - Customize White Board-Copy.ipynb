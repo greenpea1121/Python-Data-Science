{
  "cells": [
    {
      "metadata": {
        "trusted": true
      },
      "cell_type": "code",
      "source": "! pip install -U backtrader",
      "execution_count": null,
      "outputs": []
    },
    {
      "metadata": {
        "trusted": true
      },
      "cell_type": "code",
      "source": "# Strategy\nfrom datetime import datetime\nimport backtrader\n\n# Integrate Model\nimport sys\nimport warnings\nimport numpy\nimport pandas\nwarnings.filterwarnings('ignore')",
      "execution_count": null,
      "outputs": []
    },
    {
      "metadata": {
        "trusted": true
      },
      "cell_type": "code",
      "source": "# Build Instance and draw single plot\n#為了將GUI圖形顯示在 Jupyter notebook \n%matplotlib inline\nfrom mpl_toolkits import mplot3d\nfrom mpl_toolkits.mplot3d import Axes3D\nimport matplotlib\nmatplotlib.use('Agg')\nimport matplotlib.pyplot",
      "execution_count": null,
      "outputs": []
    },
    {
      "metadata": {
        "trusted": true
      },
      "cell_type": "code",
      "source": "def Function_For_Build_Customize_Object(Parameter1, Parameter2):\n    \n    class Customize_Object(backtrader.Strategy):\n        def __init__(self):\n    \n            self.data_open = self.datas[0].open\n            self.data_high = self.datas[0].high\n            self.data_low = self.datas[0].low\n            self.data_close = self.datas[0].close\n            self.data_volume = self.datas[0].volume\n\n               \n        def next(self):\n                     \n            print(pandas.DataFrame({\"Open Price\": self.data_open[0],\n                                    \"High Price\": self.data_high[0],\n                                    \"Low Price\": self.data_low[0],\n                                    \"Close Price\": self.data_close[0],\n                                    \"Volumns\": self.data_volume[0]},index=[0]))    \n################################################################################################            \n#                                      Space for Customize Strategy   \n################################################################################################           \n\n            if self.data_open[0] > 105:\n                self.sell()\n            if self.data_open[0] < 95:\n                self.buy()\n                \n################################################################################################            \n#                                      Space for Customize Strategy   \n################################################################################################            \n\n    return Customize_Object\n            \n    ",
      "execution_count": null,
      "outputs": []
    },
    {
      "metadata": {
        "trusted": true
      },
      "cell_type": "code",
      "source": "# 增加調用資料 函式庫yfinance\nimport yfinance\n# 重寫類別使其格式可接受函式庫資料型態\nclass PandasData(backtrader.feed.DataBase):\n    '''\n    The ``dataname`` parameter inherited from ``feed.DataBase`` is the pandas\n    DataFrame\n    '''\n\n    params = (\n        # Possible values for datetime (must always be present)\n        #  None : datetime is the \"index\" in the Pandas Dataframe\n        #  -1 : autodetect position or case-wise equal name\n        #  >= 0 : numeric index to the colum in the pandas dataframe\n        #  string : column name (as index) in the pandas dataframe\n        ('datetime', None),\n\n        # Possible values below:\n        #  None : column not present\n        #  -1 : autodetect position or case-wise equal name\n        #  >= 0 : numeric index to the colum in the pandas dataframe\n        #  string : column name (as index) in the pandas dataframe\n        ('open', -1),\n        ('high', -1),\n        ('low', -1),\n        ('close', -1),\n        ('volume', -1)\n    )\n",
      "execution_count": null,
      "outputs": []
    },
    {
      "metadata": {
        "trusted": true
      },
      "cell_type": "code",
      "source": "class Trading_Picture_Generator:\n\n\n    # General\n    Trading_Object_Name = \"\"\n    Trading_Level_Multiplier = 1000\n    \n    Trading_DateTime_Start = datetime(2018,1,1)\n    Trading_DateTime_End = datetime(2019,9,22)\n\n    I_Am_Trading_Cerebro_Object = backtrader.Cerebro()\n    \n    # Parameter Performance Batch\n    Parameter_Performance_Batch = []\n    \n    # Parameter for Customization Strategy\n    Customization_Parameter1 = 10 \n    Customization_Parameter2 = 20\n\n\n    def __init__(\n        self, \n        Trading_Object_Name_Input, \n        Trading_Level_Multiplier_Input, \n        Trading_DateTime_Start_Input, \n        Trading_DateTime_End_Input):\n\n        self.Trading_Object_Name = Trading_Object_Name_Input\n        self.Trading_Level_Multiplier = Trading_Level_Multiplier_Input\n\n        self.Trading_DateTime_Start = Trading_DateTime_Start_Input\n        self.Trading_DateTime_End = Trading_DateTime_End_Input\n\n\n    def Function_RunTrading_Customize(self, Customization_Parameter1, Customization_Parameter2): \n\n        Cerebro_Object = backtrader.Cerebro()\n        Cerebro_Object.broker.setcommission(mult=self.Trading_Level_Multiplier)\n        Customize_StrategyObject = Function_For_Build_Customize_Object(Customization_Parameter1, Customization_Parameter2)\n        Cerebro_Object.addstrategy(Customize_StrategyObject)\n\n        Im_Data = backtrader.feeds.YahooFinanceData(\n            dataname = self.Trading_Object_Name, \n            fromdate=self.Trading_DateTime_Start, \n            todate=self.Trading_DateTime_End)    \n\n        Cerebro_Object.adddata(Im_Data)\n        Cerebro_Object.broker.setcash(10000.0)\n        Cerebro_Object.run()\n        \n        self.Customization_Parameter1 = Customization_Parameter1\n        self.Customization_Parameter2 = Customization_Parameter2                                            \n        self.Trading_Cerebro_Object = Cerebro_Object\n\n\n    def Function_Plotting_Customize(self) : \n\n    #    cerebro.plot()\n        figure = matplotlib.pyplot.figure(figsize=(24.0, 15.0))\n        figure = self.Trading_Cerebro_Object.plot()[0][0]\n        figure.savefig('Trading_Plot/Customize/TradingCustomizeStratey_Object[{}]_Position[{}%]_Multiplier[{}].jpg'.format(\n            self.Trading_Object_Name,\n            self.Trading_Cerebro_Object.broker.getvalue()/100,\n            self.Trading_Level_Multiplier))\n        matplotlib.pyplot.close(figure)\n        matplotlib.pyplot.close(\"all\")\n        \n        \n    def Function_Batch_MultipleParameter(self, Trading_Object_Name_List, Trading_Level_Multiplier_List, Customization_Parameter1_Interval, Customization_Parameter2_Interval):\n\n        try:\n\n            for Specific_Trading_Object_Counter in range(len(Trading_Object_Name_List)):\n                for Customization_Parameter1 in range(Customization_Parameter1_Interval[0],Customization_Parameter1_Interval[1]):\n                    for Customization_Parameter2 in range(Customization_Parameter2_Interval[0] ,Customization_Parameter2_Interval[1]):\n\n                        self.Trading_Object_Name = Trading_Object_Name_List[Specific_Trading_Object_Counter]\n                        self.Trading_Level_Multiplier = Trading_Level_Multiplier_List[Specific_Trading_Object_Counter]\n                        self.Function_RunTrading_Customize(Customization_Parameter1 , Customization_Parameter2)\n                        self.Parameter_Performance_Batch.append([\n                            self.Trading_Object_Name,\n                            self.Trading_Cerebro_Object.broker.getvalue()/100,\n                            self.Customization_Parameter1,\n                            self.Customization_Parameter2])                                            \n                        self.Function_Plotting_Customize()\n                        \n                    self.Function_Plotting_StrategyCombination()\n\n        except:\n            \n            print(sys.exc_info())\n            \n            \n    def Function_Plotting_StrategyCombination(self) :\n        \n        X_axsis = numpy.array([])\n        Y_axsis = numpy.array([])\n        Z_axsis = numpy.array([])\n        for data in self.Parameter_Performance_Batch :\n            Z_axsis = numpy.append( Z_axsis, data[1])\n            Y_axsis = numpy.append( Y_axsis, data[2])\n            X_axsis = numpy.append( X_axsis, data[3])\n            \n        print(X_axsis)        \n        print(Y_axsis)\n        print(Z_axsis)\n        print(self.Parameter_Performance_Batch)        \n        ParameterPerformance_Figure = matplotlib.pyplot.figure(figsize=(20,20))\n        ax = ParameterPerformance_Figure.add_subplot(111,projection='3d')\n        ax.scatter3D(X_axsis, Y_axsis, Z_axsis, c=Z_axsis, s=500, cmap='viridis');\n        \n        matplotlib.pyplot.show()\n        matplotlib.pyplot.close(ParameterPerformance_Figure)\n        matplotlib.pyplot.close(\"all\")\n",
      "execution_count": null,
      "outputs": []
    },
    {
      "metadata": {
        "trusted": true
      },
      "cell_type": "code",
      "source": "",
      "execution_count": null,
      "outputs": []
    },
    {
      "metadata": {
        "trusted": true
      },
      "cell_type": "code",
      "source": "# Customize\n\nI_Am_Trading_Instance = Trading_Picture_Generator(\"TSM\", 1000, datetime(2018,1,1), datetime(2019,11,16))\nI_Am_Trading_Instance.Function_RunTrading_Customize(\"I_AM_Input1\",\"I_AM_Input2\")\nI_Am_Trading_Instance.Function_Plotting_Customize()",
      "execution_count": null,
      "outputs": []
    },
    {
      "metadata": {
        "trusted": true
      },
      "cell_type": "code",
      "source": "## Taiwan Market ##\n#Batch\nI_Am_Trading_Instance.Function_Batch_MultipleParameter(\n    Trading_Object_Name_List = [\"TSM\"], \n    Trading_Level_Multiplier_List = [1000],\n    Customization_Parameter1_Interval = [5,15], \n    Customization_Parameter2_Interval = [20,30])",
      "execution_count": null,
      "outputs": []
    },
    {
      "metadata": {
        "trusted": true
      },
      "cell_type": "code",
      "source": "",
      "execution_count": null,
      "outputs": []
    },
    {
      "metadata": {
        "trusted": true
      },
      "cell_type": "code",
      "source": "",
      "execution_count": null,
      "outputs": []
    }
  ],
  "metadata": {
    "kernelspec": {
      "name": "python36",
      "display_name": "Python 3.6",
      "language": "python"
    },
    "language_info": {
      "mimetype": "text/x-python",
      "nbconvert_exporter": "python",
      "name": "python",
      "pygments_lexer": "ipython3",
      "version": "3.6.6",
      "file_extension": ".py",
      "codemirror_mode": {
        "version": 3,
        "name": "ipython"
      }
    }
  },
  "nbformat": 4,
  "nbformat_minor": 2
}