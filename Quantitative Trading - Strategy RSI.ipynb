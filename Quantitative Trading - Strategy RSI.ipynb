{
  "cells": [
    {
      "metadata": {
        "trusted": true
      },
      "cell_type": "code",
      "source": "! pip install -U backtrader",
      "execution_count": 1,
      "outputs": [
        {
          "output_type": "stream",
          "text": "Requirement already up-to-date: backtrader in /home/nbuser/anaconda3_501/lib/python3.6/site-packages (1.9.74.123)\r\n",
          "name": "stdout"
        }
      ]
    },
    {
      "metadata": {
        "trusted": true
      },
      "cell_type": "code",
      "source": "# Strategy RSI\n\nfrom datetime import datetime\nimport backtrader\nimport pandas\n\n\ndef Function_For_Build_RSI_Strategy_Object(RSI_Period):\n\n \n    class RSI_StrategyObject(backtrader.Strategy):\n\n        def __init__(self):\n    \n            self.data_open = self.datas[0].open\n            self.data_high = self.datas[0].high\n            self.data_low = self.datas[0].low\n            self.data_close = self.datas[0].close\n            self.data_volume = self.datas[0].volume\n\n        \n        def next(self):\n\n            def Function_Cauculate_RSI(RSI_Period):\n                \n                Up_Day = 0\n                Down_Day = 0\n                \n                for Day in range(0, - RSI_Period, -1) :\n                    if self.data_close[Day] > self.data_open[Day] :                    \n                        Up_Day = Up_Day + 1\n                        \n                    if self.data_close[Day] < self.data_open[Day] :\n                        Down_Day = Down_Day + 1\n                \n                RSI = Up_Day / (Up_Day + Down_Day)\n    \n                return RSI            \n                \n            \n            RSI = Function_Cauculate_RSI(RSI_Period)\n            \n            #self.buy()\n            #self.sell()\n            #https://www.backtrader.com/docu/order-creation-execution/order-creation-execution/\n            \n            # if RSI < :\n            #     self.buy()\n            # if RSI > :\n            #     self.sell()\n            \n            \n            data_fram = pandas.DataFrame({\n                                         \"Open Price\": self.data_open[0],\n                                         \"High Price\": self.data_high[0],\n                                         \"Low Price\": self.data_low[0],\n                                         \"Close Price\": self.data_close[0],\n                                         \"Volumns\": self.data_volume[0],\n                                         \"RSI Value\": RSI\n                                         },index=[0])\n            print(data_fram)\n            \n            \n            \n\n    return RSI_StrategyObject",
      "execution_count": 2,
      "outputs": []
    },
    {
      "metadata": {
        "trusted": true
      },
      "cell_type": "code",
      "source": "# Integrate Model\n\nimport matplotlib\nmatplotlib.use('Agg')\nimport matplotlib.pyplot\nimport warnings\nwarnings.filterwarnings('ignore')\n\nclass Trading_Picture_Generator:\n\n\n    # General\n    Trading_Object_Name = \"\"\n    Trading_Level_Multiplier = 1000\n    \n    Trading_DateTime_Start = datetime(2018,1,1)\n    Trading_DateTime_End = datetime(2019,9,22)\n\n    I_Am_Trading_Cerebro_Object = backtrader.Cerebro()\n\n    def __init__(\n        self, \n        Trading_Object_Name_Input, \n        Trading_Level_Multiplier_Input, \n        Trading_DateTime_Start_Input, \n        Trading_DateTime_End_Input):\n\n        self.Trading_Object_Name = Trading_Object_Name_Input\n        self.Trading_Level_Multiplier = Trading_Level_Multiplier_Input\n\n        self.Trading_DateTime_Start = Trading_DateTime_Start_Input\n        self.Trading_DateTime_End = Trading_DateTime_End_Input\n\n\n\n####################################################################################\n    # Functions For Moving Average \n####################################################################################    \n    def Function_RunTrading_RSI(self, RSI_Period): \n\n        Cerebro_Object = backtrader.Cerebro()\n        Cerebro_Object.broker.setcommission(mult=self.Trading_Level_Multiplier)\n        Cerebro_Object.broker.setcash(10000.0)        \n        \n        RSI_StrategyObject = Function_For_Build_RSI_Strategy_Object(RSI_Period)\n        \n        Cerebro_Object.addstrategy(RSI_StrategyObject)\n\n        Im_Data = backtrader.feeds.YahooFinanceData(\n            dataname = self.Trading_Object_Name , \n            fromdate=self.Trading_DateTime_Start, \n            todate=self.Trading_DateTime_End)    \n\n        Cerebro_Object.adddata(Im_Data)\n\n        Cerebro_Object.run()\n        \n        self.Trading_Cerebro_Object = Cerebro_Object\n\n\n\n\n    def Function_Plotting_RSI(self) : \n\n    #    cerebro.plot()\n        figure = matplotlib.pyplot.figure(figsize=(24.0, 15.0))\n        figure = self.Trading_Cerebro_Object.plot()[0][0]\n        figure.savefig('Trading_Plot/RSI/TradingMA_Object[{}]_Position[{}%]_Multiplier[{}]_Short[{}]Long[{}].jpg'.format(\n            self.Trading_Object_Name,\n            self.Trading_Cerebro_Object.broker.getvalue()/100,\n            self.Trading_Level_Multiplier, \n            self.Short_MovingAverage, \n            self.Long_MovingAverage))\n        matplotlib.pyplot.close(figure)\n        matplotlib.pyplot.close(\"all\")\n",
      "execution_count": 3,
      "outputs": []
    },
    {
      "metadata": {
        "trusted": true
      },
      "cell_type": "code",
      "source": "",
      "execution_count": null,
      "outputs": []
    },
    {
      "metadata": {
        "trusted": true
      },
      "cell_type": "code",
      "source": "# Build Instance and draw single plot\n%matplotlib inline",
      "execution_count": 4,
      "outputs": []
    },
    {
      "metadata": {
        "trusted": true
      },
      "cell_type": "code",
      "source": "",
      "execution_count": null,
      "outputs": []
    },
    {
      "metadata": {
        "trusted": true
      },
      "cell_type": "code",
      "source": "I_Am_Trading_Instance = Trading_Picture_Generator(\"TSM\", 1000, datetime(2014,1,1), datetime(2019,11,16))\nI_Am_Trading_Instance.Function_RunTrading_RSI(30)\nI_Am_Trading_Instance.Function_Plotting_RSI()",
      "execution_count": null,
      "outputs": []
    },
    {
      "metadata": {
        "trusted": true
      },
      "cell_type": "code",
      "source": "",
      "execution_count": null,
      "outputs": []
    },
    {
      "metadata": {
        "trusted": true
      },
      "cell_type": "code",
      "source": "",
      "execution_count": null,
      "outputs": []
    }
  ],
  "metadata": {
    "kernelspec": {
      "name": "python36",
      "display_name": "Python 3.6",
      "language": "python"
    },
    "language_info": {
      "mimetype": "text/x-python",
      "nbconvert_exporter": "python",
      "name": "python",
      "pygments_lexer": "ipython3",
      "version": "3.6.6",
      "file_extension": ".py",
      "codemirror_mode": {
        "version": 3,
        "name": "ipython"
      }
    }
  },
  "nbformat": 4,
  "nbformat_minor": 2
}