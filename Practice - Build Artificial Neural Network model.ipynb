{
  "cells": [
    {
      "metadata": {
        "trusted": true
      },
      "cell_type": "code",
      "source": "import numpy\nimport pandas\nimport tensorflow\nimport keras\nimport sys",
      "execution_count": null,
      "outputs": []
    },
    {
      "metadata": {
        "trusted": true
      },
      "cell_type": "code",
      "source": "# DNN",
      "execution_count": null,
      "outputs": []
    },
    {
      "metadata": {
        "trusted": true
      },
      "cell_type": "code",
      "source": "# DNN\n# Basic Practice\n\n#使用keras 模組創建instance 物件實例\nIm_model = keras.models.Sequential()\n\n#對產生的類神經網路物件 開始進行架構結構\n\n#輸入層 input layer 產生100個輸入信號的類神經網路\nIm_model.add(keras.layers.Dense(units=64, activation='relu', input_dim=100))\n\nIm_model.add(keras.layers.Dense(units=128, activation='relu'))\n\nIm_model.add(keras.layers.Dense(units=64, activation='relu'))\n\n#最後一層 = 輸出層 output layer\nIm_model.add(keras.layers.Dense(units=1, activation='linear'))\n\nIm_model.compile(loss='mse', optimizer='adam', metrics=['accuracy'])",
      "execution_count": null,
      "outputs": []
    },
    {
      "metadata": {
        "trusted": true
      },
      "cell_type": "code",
      "source": "# ",
      "execution_count": null,
      "outputs": []
    },
    {
      "metadata": {
        "trusted": true
      },
      "cell_type": "code",
      "source": "# CNN\n#\nInput_Dimension = 123\nOutput_Dimension = 223\n\nIm_CNN_Model_Instance = keras.models.Sequential()\nIm_CNN_Model_Instance.add(keras.layers.Conv2D(32, (3, 3), padding='same',input_shape = Input_Dimension))\nIm_CNN_Model_Instance.add(keras.layers.Activation('relu'))\nIm_CNN_Model_Instance.add(keras.layers.Conv2D(32, (3, 3)))\nIm_CNN_Model_Instance.add(keras.layers.Activation('relu'))\nIm_CNN_Model_Instance.add(keras.layers.MaxPooling2D(pool_size=(2, 2)))\nIm_CNN_Model_Instance.add(keras.layers.Dropout(0.25))\n\nIm_CNN_Model_Instance.add(keras.layers.Conv2D(64, (3, 3), padding='same'))\nIm_CNN_Model_Instance.add(keras.layers.Activation('relu'))\nIm_CNN_Model_Instance.add(keras.layers.Conv2D(64, (3, 3)))\nIm_CNN_Model_Instance.add(keras.layers.Activation('relu'))\nIm_CNN_Model_Instance.add(keras.layers.MaxPooling2D(pool_size=(2, 2)))\nIm_CNN_Model_Instance.add(keras.layers.Dropout(0.25))\n\nIm_CNN_Model_Instance.add(keras.layers.Flatten())\nIm_CNN_Model_Instance.add(keras.layers.Dense(512))\nIm_CNN_Model_Instance.add(keras.layers.Activation('relu'))\nIm_CNN_Model_Instance.add(keras.layers.Dropout(0.5))\nIm_CNN_Model_Instance.add(keras.layers.Dense(Output_Dimension))\nIm_CNN_Model_Instance.add(keras.layers.Activation('softmax'))\n\n# initiate RMSprop optimizer\nopt = keras.optimizers.RMSprop(learning_rate=0.0001, decay=1e-6)\n\n# Let's train the model using RMSprop\nIm_CNN_Model_Instance.compile(loss='categorical_crossentropy',\n              optimizer=opt,\n              metrics=['accuracy'])",
      "execution_count": null,
      "outputs": []
    },
    {
      "metadata": {
        "trusted": true
      },
      "cell_type": "code",
      "source": "# LSTM",
      "execution_count": null,
      "outputs": []
    },
    {
      "metadata": {
        "collapsed": true,
        "trusted": false
      },
      "cell_type": "code",
      "source": "# LSTM\n# Build by define Function\n\ndef Im_Lstm_Model_Initialization_Funcion(FeatureData_PeriodRange_Start, FeatureData_PeriodRange_End ):\n\n    Im_cute_model = keras.models.Sequential()\n        \n    Im_cute_model.add(keras.layers.recurrent.LSTM(units=256, input_shape=(None, 5*( FeatureData_PeriodRange_Start - FeatureData_PeriodRange_End )), return_sequences=True))\n    Im_cute_model.add(keras.layers.core.Dropout(0.1))\n\n    Im_cute_model.add(keras.layers.recurrent.LSTM(units=512, return_sequences=True))\n    Im_cute_model.add(keras.layers.core.Dropout(0.2))\n\n    Im_cute_model.add(keras.layers.recurrent.SimpleRNN(units=256, return_sequences=True))\n    Im_cute_model.add(keras.layers.core.Dropout(0.2))\n\n    Im_cute_model.add(keras.layers.core.Dense(units = 512, activation = \"relu\"))\n    Im_cute_model.add(keras.layers.core.Dropout(0.2))\n\n    Im_cute_model.add(keras.layers.recurrent.LSTM(units=256, return_sequences=True))\n    Im_cute_model.add(keras.layers.core.Dropout(0.2))\n\n    Im_cute_model.add(keras.layers.recurrent.LSTM(units=128, return_sequences=True))\n    Im_cute_model.add(keras.layers.core.Dropout(0.1))\n\n    Im_cute_model.add(keras.layers.core.Dense(units = 1, activation = \"linear\"))\n\n    Im_AdamAMSgrad_Optimizer = keras.optimizers.Adam(amsgrad=True)\n\n\n    Im_cute_model.compile(loss = \"mse\", optimizer = Im_AdamAMSgrad_Optimizer )\n\n    return Im_cute_model\n\n# Initialize  model \n# 產生模型\nIm_cute_model = Im_Lstm_Model_Initialization_Funcion(-10, -60)\n\n",
      "execution_count": null,
      "outputs": []
    },
    {
      "metadata": {
        "trusted": true
      },
      "cell_type": "code",
      "source": "# Prediction \n# 預測\ndef Im_prediction_function(Im_train_input):\n\n    Im_cute_prediction = Im_cute_model.predict(Im_train_input)\n\n    return Im_cute_prediction\n\n\n# Training \n# 訓練\ndef Im_training_function(Im_train_input_set, Im_train_label_set, Im_train_epochs): \n\n    Im_cute_model.fit(\n        Im_train_input_set,\n        Im_train_label_set,\n#        batch_size = 1,\n        epochs = Im_train_epochs,\n        verbose = 2,\n#        validation_split = 0.05\n    )\n    return Im_cute_model.evaluate(x =  Im_train_input_set, y =  Im_train_label_set)\n\n# evaluation\n# 衡量模型\ndef Im_performance_testing_function(Im_train_input_set, Im_train_label_set): \n\n    return Im_cute_model.evaluate(x =  Im_train_input_set, y =  Im_train_label_set)",
      "execution_count": null,
      "outputs": []
    },
    {
      "metadata": {
        "trusted": true
      },
      "cell_type": "code",
      "source": "####################################################################################################################################\n######################### Artificial Neural Network Initialization Testing\n####################################################################################################################################\n\n# 讀取模型\n# Read model from file\nIm_cute_model = keras.models.load_model(\"LSTM_BackTrader.h5\")\n# 儲存模型 \n# Save model to .h5 file \nIm_cute_model.save(\"LSTM_BackTrader.h5\")\n\n# Make some random data\n# 隨機產生應用資料\nIm_array_training_feature_Instant = numpy.random.rand(1000,1,250)\nIm_array_training_label_Instant = numpy.random.rand(1000,1,1)\n\n# Training \n# 訓練\nprint(Im_training_function(Im_array_training_feature_Instant, Im_array_training_label_Instant, 1))\n\n# Prediction \n# 預測\nprint(Im_prediction_function(Im_array_training_feature_Instant))",
      "execution_count": null,
      "outputs": []
    },
    {
      "metadata": {
        "trusted": true
      },
      "cell_type": "code",
      "source": "",
      "execution_count": null,
      "outputs": []
    },
    {
      "metadata": {
        "trusted": true
      },
      "cell_type": "code",
      "source": "",
      "execution_count": null,
      "outputs": []
    }
  ],
  "metadata": {
    "kernelspec": {
      "name": "python36",
      "display_name": "Python 3.6",
      "language": "python"
    },
    "language_info": {
      "mimetype": "text/x-python",
      "nbconvert_exporter": "python",
      "name": "python",
      "pygments_lexer": "ipython3",
      "version": "3.6.6",
      "file_extension": ".py",
      "codemirror_mode": {
        "version": 3,
        "name": "ipython"
      }
    }
  },
  "nbformat": 4,
  "nbformat_minor": 2
}