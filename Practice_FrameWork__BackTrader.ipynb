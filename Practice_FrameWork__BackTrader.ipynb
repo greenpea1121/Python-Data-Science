{
  "cells": [
    {
      "metadata": {
        "trusted": true
      },
      "cell_type": "code",
      "source": "! pip install -U backtrader",
      "execution_count": 1,
      "outputs": [
        {
          "output_type": "stream",
          "text": "Collecting backtrader\n\u001b[?25l  Downloading https://files.pythonhosted.org/packages/a6/35/6ed3fbb771712d457011680970f3f0bcf38bfbc4cedd447d62705a6523c8/backtrader-1.9.74.123-py2.py3-none-any.whl (411kB)\n\u001b[K     |████████████████████████████████| 419kB 2.0MB/s eta 0:00:01\n\u001b[?25hInstalling collected packages: backtrader\nSuccessfully installed backtrader-1.9.74.123\n",
          "name": "stdout"
        }
      ]
    },
    {
      "metadata": {
        "trusted": true
      },
      "cell_type": "code",
      "source": "import backtrader",
      "execution_count": 2,
      "outputs": []
    },
    {
      "metadata": {
        "trusted": true
      },
      "cell_type": "code",
      "source": "",
      "execution_count": null,
      "outputs": []
    },
    {
      "metadata": {
        "collapsed": true,
        "trusted": false
      },
      "cell_type": "code",
      "source": "\n\nCerebro_Object = backtrader.Cerebro()\n\n\n\nCustomize_StrategyObject = Function_For_Build_Customize_Object()\n\n\n\nCerebro_Object.addstrategy(Customize_StrategyObject)\n\n\n\nIm_Data = backtrader.feeds.YahooFinanceData(\n    dataname = , \n    fromdate = , \n    todate = )    \n\n\n\nCerebro_Object.adddata(Im_Data)\n\n\n\nCerebro_Object.run()\n\n",
      "execution_count": null,
      "outputs": []
    },
    {
      "metadata": {
        "trusted": true
      },
      "cell_type": "code",
      "source": "",
      "execution_count": null,
      "outputs": []
    },
    {
      "metadata": {
        "trusted": true
      },
      "cell_type": "code",
      "source": "# Build Instance and draw single plot\n%matplotlib inline\nimport matplotlib\nmatplotlib.use('Agg')\nimport matplotlib.pyplot\nimport warnings\nwarnings.filterwarnings('ignore')",
      "execution_count": null,
      "outputs": []
    },
    {
      "metadata": {
        "trusted": true
      },
      "cell_type": "code",
      "source": "",
      "execution_count": null,
      "outputs": []
    },
    {
      "metadata": {
        "trusted": true
      },
      "cell_type": "code",
      "source": "Cerebro_Object.plot()[0][0]",
      "execution_count": null,
      "outputs": []
    },
    {
      "metadata": {
        "trusted": true
      },
      "cell_type": "code",
      "source": "def Function_For_Build_Customize_Object(Parameter_1):\n    \n    class Customize_Object(backtrader.Strategy):\n        def __init__(self):\n    \n            self.data_open = self.datas[0].open\n            self.data_high = self.datas[0].high\n            self.data_low = self.datas[0].low\n            self.data_close = self.datas[0].close\n            self.data_volume = self.datas[0].volume\n               \n        def next(self):\n    \n                \n################################################################################################            \n#                                       Customize Space                                        #\n################################################################################################\n\n            #self.buy()\n            #self.sell()\n            #https://www.backtrader.com/docu/order-creation-execution/order-creation-execution/\n            \n            \n            print(pandas.DataFrame({\"Open Price\": self.data_open[0],\n                                             \"High Price\": self.data_high[0],\n                                             \"Low Price\": self.data_low[0],\n                                             \"Close Price\": self.data_close[0],\n                                             \"Volumns\": self.data_volume[0]\n                                             },index=[0]))\n\n            \n        return Customize_Object\n            \n    ",
      "execution_count": null,
      "outputs": []
    }
  ],
  "metadata": {
    "kernelspec": {
      "name": "python36",
      "display_name": "Python 3.6",
      "language": "python"
    },
    "language_info": {
      "mimetype": "text/x-python",
      "nbconvert_exporter": "python",
      "name": "python",
      "pygments_lexer": "ipython3",
      "version": "3.6.6",
      "file_extension": ".py",
      "codemirror_mode": {
        "version": 3,
        "name": "ipython"
      }
    }
  },
  "nbformat": 4,
  "nbformat_minor": 2
}