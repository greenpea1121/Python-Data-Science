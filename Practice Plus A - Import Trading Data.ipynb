{
  "cells": [
    {
      "metadata": {
        "trusted": true
      },
      "cell_type": "code",
      "source": "! pip install -U backtrader yfinance",
      "execution_count": null,
      "outputs": []
    },
    {
      "metadata": {
        "trusted": true
      },
      "cell_type": "code",
      "source": "import backtrader\nfrom datetime import datetime\nimport numpy\nimport pandas\n# Build Instance and draw single plot\n#為了將GUI圖形顯示在 Jupyter notebook \n%matplotlib inline",
      "execution_count": 2,
      "outputs": [
        {
          "output_type": "stream",
          "text": "/home/nbuser/anaconda3_501/lib/python3.6/site-packages/matplotlib/font_manager.py:229: UserWarning: Matplotlib is building the font cache using fc-list. This may take a moment.\n  'Matplotlib is building the font cache using fc-list. '\n",
          "name": "stderr"
        }
      ]
    },
    {
      "metadata": {
        "trusted": true
      },
      "cell_type": "code",
      "source": "Trading_Object_Name = \"NQ=F\"\nTrading_DateTime_Start = datetime(2017,1,1)\nTrading_DateTime_End = datetime(2019,12,22)\n\nIm_Data = backtrader.feeds.YahooFinanceData(\n            dataname = Trading_Object_Name , \n            fromdate=Trading_DateTime_Start, \n            todate=Trading_DateTime_End)    \n",
      "execution_count": 3,
      "outputs": []
    },
    {
      "metadata": {
        "trusted": true
      },
      "cell_type": "code",
      "source": "class PandasData(backtrader.feed.DataBase):\n    '''\n    The ``dataname`` parameter inherited from ``feed.DataBase`` is the pandas\n    DataFrame\n    '''\n\n    params = (\n        # Possible values for datetime (must always be present)\n        #  None : datetime is the \"index\" in the Pandas Dataframe\n        #  -1 : autodetect position or case-wise equal name\n        #  >= 0 : numeric index to the colum in the pandas dataframe\n        #  string : column name (as index) in the pandas dataframe\n        ('datetime', None),\n\n        # Possible values below:\n        #  None : column not present\n        #  -1 : autodetect position or case-wise equal name\n        #  >= 0 : numeric index to the colum in the pandas dataframe\n        #  string : column name (as index) in the pandas dataframe\n        ('open', -1),\n        ('high', -1),\n        ('low', -1),\n        ('close', -1),\n        ('volume', -1)\n    )\n    \n",
      "execution_count": 4,
      "outputs": []
    },
    {
      "metadata": {
        "trusted": true
      },
      "cell_type": "code",
      "source": "",
      "execution_count": null,
      "outputs": []
    },
    {
      "metadata": {
        "trusted": true
      },
      "cell_type": "code",
      "source": "",
      "execution_count": null,
      "outputs": []
    },
    {
      "metadata": {
        "trusted": true
      },
      "cell_type": "code",
      "source": "",
      "execution_count": null,
      "outputs": []
    },
    {
      "metadata": {
        "trusted": true
      },
      "cell_type": "code",
      "source": "class Class_For_Build_Customize_Object(backtrader.Strategy):\n    def __init__(self):\n\n        #self.date_time = self.datas[0].todate\n        self.data_open = self.datas[0].open\n        self.data_high = self.datas[0].high\n        self.data_low = self.datas[0].low\n        self.data_close = self.datas[0].close\n        self.data_volume = self.datas[0].volume\n           \n    def next(self):\n\n\n        \n        data_fram = pandas.DataFrame({\n                                     \"Open Price\": self.data_open[0],\n                                     \"High Price\": self.data_high[0],\n                                     \"Low Price\": self.data_low[0],\n                                     \"Close Price\": self.data_close[0],\n                                     \"Transection Volumn\": self.data_volume[0]\n                                     },index=[0])\n        print(data_fram)\n        \n",
      "execution_count": 5,
      "outputs": []
    },
    {
      "metadata": {
        "trusted": true
      },
      "cell_type": "code",
      "source": "",
      "execution_count": null,
      "outputs": []
    },
    {
      "metadata": {
        "trusted": true
      },
      "cell_type": "code",
      "source": "import yfinance as yf\n\nmsft = yf.Ticker(\"MSFT\")\n\n# get stock info\nmsft.info\nprint(\" msft.info : \")\nprint(msft.info)\n\n\n\n\n# get historical market data\nhist = msft.history(period=\"max\")\nprint(\" hist : \")\nprint(hist)\n\n\n\n\n# show actions (dividends, splits)\nmsft.actions\nprint(\" msft.actions : \")\nprint(msft.actions)\n\n\n\n\n# show dividends\nmsft.dividends\nprint(\" msft.dividends : \")\nprint(msft.dividends)\n\n\n\n\n# show splits\nmsft.splits\nprint(\" msft.splits : \")\nprint(msft.splits)\n\n\n\n\n# show financials\nmsft.financials\nmsft.quarterly_financials\nprint(\" msft.financials : \")\nprint(msft.financials)\nprint(\" msft.quarterly_financials : \")\nprint(msft.quarterly_financials)\n\n\n\n# show major holders\n#stock.major_holders\n\n# show institutional holders\n#stock.institutional_holders\n\n# show balance heet\nmsft.balance_sheet\nmsft.quarterly_balance_sheet\nprint(\" msft.balance_sheet : \")\nprint(msft.balance_sheet)\nprint(\" msft.quarterly_balance_sheet : \")\nprint(msft.quarterly_balance_sheet)\n\n\n\n\n# show cashflow\nmsft.cashflow\nmsft.quarterly_cashflow\nprint(\" msft.cashflow : \")\nprint(msft.cashflow)\nprint(\" msft.quarterly_cashflow : \")\nprint(msft.quarterly_cashflow)\n\n\n# show earnings\nmsft.earnings\nmsft.quarterly_earnings\nprint(\" msft.earnings : \")\nprint(msft.earnings)\nprint(\" msft.quarterly_earnings : \")\nprint(msft.quarterly_earnings)\n\n\n\n\n# show sustainability\nmsft.sustainability\nprint(\" msft.sustainability : \")\nprint(msft.sustainability)\n\n\n\n\n# show analysts recommendations\nmsft.recommendations\nprint(\" msft.recommendations : \")\nprint(msft.recommendations)\n\n\n\n\n# show next event (earnings, etc)\nmsft.calendar\nprint(\" msft.calendar : \")\nprint(msft.calendar)\n\n\n\n\n# show ISIN code - *experimental*\n# ISIN = International Securities Identification Number\nmsft.isin\nprint(\" msft.isin : \")\nprint(msft.isin)\n\n\n\n\n# show options expirations\nmsft.options\nprint(\" msft.options : \")\nprint(msft.options)\n\n\n# get option chain for specific expiration\nopt = msft.option_chain('2020-04-24')\nprint(\" option : \")\nprint(opt)\n\n\n\n# data available via: opt.calls, opt.puts",
      "execution_count": 9,
      "outputs": [
        {
          "output_type": "stream",
          "text": " msft.info : \n{'zip': '98052', 'sector': 'Technology', 'fullTimeEmployees': 144000, 'longBusinessSummary': 'Microsoft Corporation develops, licenses, and supports software, services, devices, and solutions worldwide. Its Productivity and Business Processes segment offers Office, Exchange, SharePoint, Microsoft Teams, Office 365 Security and Compliance, and Skype for Business, as well as related Client Access Licenses (CAL); and Skype, Outlook.com, and OneDrive. It also provides LinkedIn that includes Talent and marketing solutions, and subscriptions; and Dynamics 365, a set of cloud-based and on-premises business solutions for small and medium businesses, large organizations, and divisions of enterprises. Its Intelligent Cloud segment licenses SQL and Windows Servers, Visual Studio, System Center, and related CALs; GitHub that provides a collaboration platform and code hosting service for developers; and Azure, a cloud platform. It also provides support services and Microsoft consulting services to assist customers in developing, deploying, and managing Microsoft server and desktop solutions; and training and certification to developers and IT professionals on various Microsoft products. Its More Personal Computing segment offers Windows OEM licensing and other non-volume licensing of the Windows operating system; Windows Commercial, such as volume licensing of the Windows operating system, Windows cloud services, and other Windows commercial offerings; patent licensing; Windows Internet of Things; and MSN advertising. It also provides Microsoft Surface, PC accessories, and other intelligent devices; Gaming, including Xbox hardware, and Xbox software and services; video games and third-party video game royalties; and Search, including Bing and Microsoft advertising. It sells its products through distributors and resellers; and directly through digital marketplaces, online stores, and retail stores. It has strategic partnerships with Humana Inc., Nokia, Telkomsel, Swiss Re, and Kubota Corporation. The company was founded in 1975 and is headquartered in Redmond, Washington.', 'city': 'Redmond', 'phone': '425-882-8080', 'state': 'WA', 'country': 'United States', 'companyOfficers': [], 'website': 'http://www.microsoft.com', 'maxAge': 1, 'address1': 'One Microsoft Way', 'fax': '425-706-7329', 'industry': 'Software—Infrastructure', 'previousClose': 177.04, 'regularMarketOpen': 179.5, 'twoHundredDayAverage': 156.71346, 'trailingAnnualDividendYield': 0.010957976, 'payoutRatio': 0.32930002, 'volume24Hr': None, 'regularMarketDayHigh': 180, 'navPrice': None, 'averageDailyVolume10Day': 47723920, 'totalAssets': None, 'regularMarketPreviousClose': 177.04, 'fiftyDayAverage': 157.15147, 'trailingAnnualDividendRate': 1.94, 'open': 179.5, 'toCurrency': None, 'averageVolume10days': 47723920, 'expireDate': None, 'yield': None, 'algorithm': None, 'dividendRate': 2.04, 'exDividendDate': 1589932800, 'beta': 0.962017, 'circulatingSupply': None, 'startDate': None, 'regularMarketDayLow': 175.89, 'priceHint': 2, 'currency': 'USD', 'trailingPE': 31.109564, 'regularMarketVolume': 52765625, 'lastMarket': None, 'maxSupply': None, 'openInterest': None, 'marketCap': 1358440562688, 'volumeAllCurrencies': None, 'strikePrice': None, 'averageVolume': 54760364, 'priceToSalesTrailing12Months': 10.1188135, 'dayLow': 175.89, 'ask': 177.7, 'ytdReturn': None, 'askSize': 900, 'volume': 52765625, 'fiftyTwoWeekHigh': 190.7, 'forwardPE': 28.946516, 'fromCurrency': None, 'fiveYearAvgDividendYield': 1.97, 'fiftyTwoWeekLow': 119.01, 'bid': 177.28, 'tradeable': False, 'dividendYield': 0.0115, 'bidSize': 1000, 'dayHigh': 180, 'exchange': 'NMS', 'shortName': 'Microsoft Corporation', 'longName': 'Microsoft Corporation', 'exchangeTimezoneName': 'America/New_York', 'exchangeTimezoneShortName': 'EDT', 'isEsgPopulated': False, 'gmtOffSetMilliseconds': '-14400000', 'quoteType': 'EQUITY', 'symbol': 'MSFT', 'messageBoardId': 'finmb_21835', 'market': 'us_market', 'annualHoldingsTurnover': None, 'enterpriseToRevenue': 9.768, 'beta3Year': None, 'profitMargins': 0.33016, 'enterpriseToEbitda': 21.405, '52WeekChange': 0.4431157, 'morningStarRiskRating': None, 'forwardEps': 6.17, 'revenueQuarterlyGrowth': None, 'sharesOutstanding': 7606049792, 'fundInceptionDate': None, 'annualReportExpenseRatio': None, 'bookValue': 14.467, 'sharesShort': 58762671, 'sharesPercentSharesOut': 0.0077, 'fundFamily': None, 'lastFiscalYearEnd': 1561852800, 'heldPercentInstitutions': 0.74223, 'netIncomeToCommon': 44323000320, 'trailingEps': 5.741, 'lastDividendValue': None, 'SandP52WeekChange': -0.011489093, 'priceToBook': 12.345338, 'heldPercentInsiders': 0.01421, 'nextFiscalYearEnd': 1625011200, 'mostRecentQuarter': 1577750400, 'shortRatio': 0.8, 'sharesShortPreviousMonthDate': 1582848000, 'floatShares': 7494998724, 'enterpriseValue': 1311355961344, 'threeYearAverageReturn': None, 'lastSplitDate': 1045526400, 'lastSplitFactor': '2:1', 'legalType': None, 'morningStarOverallRating': None, 'earningsQuarterlyGrowth': 0.383, 'dateShortInterest': 1585612800, 'pegRatio': 2.25, 'lastCapGain': None, 'shortPercentOfFloat': 0.0077, 'sharesShortPriorMonth': 37031775, 'category': None, 'fiveYearAverageReturn': None, 'regularMarketPrice': 179.5, 'logo_url': 'https://logo.clearbit.com/microsoft.com'}\n hist : \n              Open    High     Low   Close      Volume  Dividends  \\\nDate                                                                \n1986-03-13    0.06    0.07    0.06    0.06  1031788800        0.0   \n1986-03-14    0.06    0.07    0.06    0.06   308160000        0.0   \n1986-03-17    0.06    0.07    0.06    0.07   133171200        0.0   \n1986-03-18    0.07    0.07    0.06    0.06    67766400        0.0   \n1986-03-19    0.06    0.06    0.06    0.06    47894400        0.0   \n...            ...     ...     ...     ...         ...        ...   \n2020-04-13  164.35  165.57  162.30  165.51    41905300        0.0   \n2020-04-14  169.00  173.75  168.00  173.70    52874300        0.0   \n2020-04-15  171.20  173.57  169.24  171.88    40940800        0.0   \n2020-04-16  174.30  177.28  172.90  177.04    50168800        0.0   \n2020-04-17  179.50  180.00  175.87  178.60    52730400        0.0   \n\n            Stock Splits  \nDate                      \n1986-03-13           0.0  \n1986-03-14           0.0  \n1986-03-17           0.0  \n1986-03-18           0.0  \n1986-03-19           0.0  \n...                  ...  \n2020-04-13           0.0  \n2020-04-14           0.0  \n2020-04-15           0.0  \n2020-04-16           0.0  \n2020-04-17           0.0  \n\n[8595 rows x 7 columns]\n msft.actions : \n            Dividends  Stock Splits\nDate                               \n1987-09-21       0.00           2.0\n1990-04-16       0.00           2.0\n1991-06-27       0.00           1.5\n1992-06-15       0.00           1.5\n1994-05-23       0.00           2.0\n...               ...           ...\n2019-02-20       0.46           0.0\n2019-05-15       0.46           0.0\n2019-08-14       0.46           0.0\n2019-11-20       0.51           0.0\n2020-02-19       0.51           0.0\n\n[74 rows x 2 columns]\n msft.dividends : \nDate\n2003-02-19    0.08\n2003-10-15    0.16\n2004-08-23    0.08\n2004-11-15    3.08\n2005-02-15    0.08\n              ... \n2019-02-20    0.46\n2019-05-15    0.46\n2019-08-14    0.46\n2019-11-20    0.51\n2020-02-19    0.51\nName: Dividends, Length: 65, dtype: float64\n msft.splits : \nDate\n1987-09-21    2.0\n1990-04-16    2.0\n1991-06-27    1.5\n1992-06-15    1.5\n1994-05-23    2.0\n1996-12-09    2.0\n1998-02-23    2.0\n1999-03-29    2.0\n2003-02-18    2.0\nName: Stock Splits, dtype: float64\n msft.financials : \nEmpty DataFrame\nColumns: [Open, High, Low, Close, Adj Close, Volume]\nIndex: []\n msft.quarterly_financials : \nEmpty DataFrame\nColumns: [Open, High, Low, Close, Adj Close, Volume]\nIndex: []\n msft.balance_sheet : \nEmpty DataFrame\nColumns: [Open, High, Low, Close, Adj Close, Volume]\nIndex: []\n msft.quarterly_balance_sheet : \nEmpty DataFrame\nColumns: [Open, High, Low, Close, Adj Close, Volume]\nIndex: []\n msft.cashflow : \nEmpty DataFrame\nColumns: [Open, High, Low, Close, Adj Close, Volume]\nIndex: []\n msft.quarterly_cashflow : \nEmpty DataFrame\nColumns: [Open, High, Low, Close, Adj Close, Volume]\nIndex: []\n msft.earnings : \nEmpty DataFrame\nColumns: [Open, High, Low, Close, Adj Close, Volume]\nIndex: []\n msft.quarterly_earnings : \nEmpty DataFrame\nColumns: [Open, High, Low, Close, Adj Close, Volume]\nIndex: []\n msft.sustainability : \n                                     Value\n2020-3                                    \npalmOil                              False\ncontroversialWeapons                 False\ngambling                             False\nsocialScore                           9.87\nnuclear                              False\nfurLeather                           False\nalcoholic                            False\ngmo                                  False\ncatholic                             False\nsocialPercentile                         0\npeerCount                              100\ngovernanceScore                       5.24\nenvironmentPercentile                    0\nanimalTesting                        False\ntobacco                              False\ntotalEsg                             15.55\nhighestControversy                       3\nesgPerformance                  UNDER_PERF\ncoal                                 False\npesticides                           False\nadult                                False\npercentile                            7.96\npeerGroup              Software & Services\nsmallArms                            False\nenvironmentScore                      0.44\ngovernancePercentile                     0\nmilitaryContract                     False\n msft.recommendations : \n",
          "name": "stdout"
        },
        {
          "output_type": "stream",
          "text": "                      Firm       To Grade From Grade Action\nDate                                                       \n2012-03-16  Argus Research            Buy                up\n2012-03-19  Hilliard Lyons  Long-Term Buy              main\n2012-03-22  Morgan Stanley     Overweight              main\n2012-04-03             UBS            Buy              main\n2012-04-20   Goldman Sachs        Neutral              main\n...                    ...            ...        ...    ...\n2020-03-17   Deutsche Bank            Buy              main\n2020-03-25  Morgan Stanley     Overweight              main\n2020-03-31   Piper Sandler     Overweight              main\n2020-03-31       Citigroup        Neutral              main\n2020-04-03   Raymond James     Strong Buy              main\n\n[271 rows x 4 columns]\n msft.calendar : \n                                Value\nEarnings Date     2020-04-29 00:00:00\nEarnings Average                 1.29\nEarnings Low                     1.17\nEarnings High                    1.43\nRevenue Average           34032700000\nRevenue Low               32751000000\nRevenue High              35111000000\n msft.isin : \nUS5949181045\n msft.options : \n('2020-04-24', '2020-05-01', '2020-05-08', '2020-05-15', '2020-05-22', '2020-05-29', '2020-06-19', '2020-07-17', '2020-09-18', '2020-10-16', '2020-12-18', '2021-01-15', '2021-03-19', '2021-06-18', '2021-09-17', '2022-01-21', '2022-03-18', '2022-06-17', '2022-09-16')\n option : \nOptions(calls=         contractSymbol       lastTradeDate  strike  lastPrice  bid  ask  \\\n0   MSFT200424C00100000 2020-04-13 14:40:59   100.0      76.00  0.0  0.0   \n1   MSFT200424C00102000 2020-04-20 04:10:59   102.0      76.25  0.0  0.0   \n2   MSFT200424C00103000 2020-03-31 18:18:14   103.0      56.35  0.0  0.0   \n3   MSFT200424C00111000 2020-03-31 19:41:40   111.0      48.00  0.0  0.0   \n4   MSFT200424C00120000 2020-04-13 15:19:32   120.0      42.88  0.0  0.0   \n5   MSFT200424C00125000 2020-04-13 15:19:32   125.0      37.82  0.0  0.0   \n6   MSFT200424C00126000 2020-03-24 19:46:48   126.0      28.95  0.0  0.0   \n7   MSFT200424C00127000 2020-03-26 17:32:30   127.0      27.60  0.0  0.0   \n8   MSFT200424C00130000 2020-04-17 19:30:43   130.0      47.25  0.0  0.0   \n9   MSFT200424C00131000 2020-04-02 18:07:32   131.0      23.30  0.0  0.0   \n10  MSFT200424C00132000 2020-04-02 18:05:57   132.0      26.20  0.0  0.0   \n11  MSFT200424C00133000 2020-03-25 13:46:19   133.0      19.25  0.0  0.0   \n12  MSFT200424C00134000 2020-04-14 15:23:40   134.0      36.50  0.0  0.0   \n13  MSFT200424C00135000 2020-04-17 19:33:46   135.0      42.75  0.0  0.0   \n14  MSFT200424C00136000 2020-03-24 14:33:24   136.0      18.53  0.0  0.0   \n15  MSFT200424C00137000 2020-04-17 19:48:40   137.0      40.45  0.0  0.0   \n16  MSFT200424C00138000 2020-04-15 16:05:11   138.0      33.70  0.0  0.0   \n17  MSFT200424C00139000 2020-04-17 19:26:21   139.0      38.22  0.0  0.0   \n18  MSFT200424C00140000 2020-04-17 19:33:46   140.0      37.75  0.0  0.0   \n19  MSFT200424C00141000 2020-04-17 13:43:16   141.0      37.00  0.0  0.0   \n20  MSFT200424C00142000 2020-04-16 18:51:20   142.0      33.44  0.0  0.0   \n21  MSFT200424C00143000 2020-04-15 19:59:40   143.0      28.93  0.0  0.0   \n22  MSFT200424C00144000 2020-04-17 17:30:10   144.0      32.72  0.0  0.0   \n23  MSFT200424C00145000 2020-04-17 19:53:02   145.0      33.39  0.0  0.0   \n24  MSFT200424C00146000 2020-04-17 19:50:01   146.0      32.00  0.0  0.0   \n25  MSFT200424C00147000 2020-04-17 19:41:32   147.0      30.64  0.0  0.0   \n26  MSFT200424C00148000 2020-04-16 17:50:13   148.0      26.77  0.0  0.0   \n27  MSFT200424C00149000 2020-04-17 16:01:44   149.0      27.32  0.0  0.0   \n28  MSFT200424C00150000 2020-04-17 19:57:46   150.0      27.85  0.0  0.0   \n29  MSFT200424C00152500 2020-04-17 19:42:45   152.5      24.95  0.0  0.0   \n30  MSFT200424C00155000 2020-04-17 19:45:52   155.0      23.60  0.0  0.0   \n31  MSFT200424C00157500 2020-04-17 19:54:17   157.5      20.95  0.0  0.0   \n32  MSFT200424C00160000 2020-04-17 19:59:19   160.0      18.35  0.0  0.0   \n33  MSFT200424C00162500 2020-04-17 19:56:20   162.5      15.60  0.0  0.0   \n34  MSFT200424C00165000 2020-04-17 19:59:11   165.0      13.50  0.0  0.0   \n35  MSFT200424C00167500 2020-04-17 19:59:24   167.5      11.36  0.0  0.0   \n36  MSFT200424C00170000 2020-04-17 19:59:35   170.0       9.00  0.0  0.0   \n37  MSFT200424C00172500 2020-04-17 19:59:50   172.5       7.45  0.0  0.0   \n38  MSFT200424C00175000 2020-04-17 19:59:55   175.0       5.62  0.0  0.0   \n39  MSFT200424C00177500 2020-04-17 19:59:59   177.5       4.05  0.0  0.0   \n40  MSFT200424C00180000 2020-04-17 19:59:59   180.0       2.85  0.0  0.0   \n41  MSFT200424C00182500 2020-04-17 19:59:57   182.5       1.91  0.0  0.0   \n42  MSFT200424C00185000 2020-04-17 19:59:56   185.0       1.25  0.0  0.0   \n43  MSFT200424C00187500 2020-04-17 19:59:59   187.5       0.90  0.0  0.0   \n44  MSFT200424C00190000 2020-04-17 19:59:47   190.0       0.53  0.0  0.0   \n45  MSFT200424C00192500 2020-04-17 19:59:39   192.5       0.34  0.0  0.0   \n46  MSFT200424C00195000 2020-04-17 19:59:27   195.0       0.25  0.0  0.0   \n47  MSFT200424C00197500 2020-04-17 19:59:45   197.5       0.18  0.0  0.0   \n48  MSFT200424C00200000 2020-04-17 19:59:46   200.0       0.14  0.0  0.0   \n49  MSFT200424C00202500 2020-04-17 19:57:17   202.5       0.09  0.0  0.0   \n50  MSFT200424C00205000 2020-04-17 19:54:46   205.0       0.09  0.0  0.0   \n\n    change  percentChange   volume  openInterest  impliedVolatility  \\\n0      0.0            0.0      2.0           0.0           0.000010   \n1      0.0            0.0      NaN           NaN           0.000010   \n2      0.0            0.0      NaN           0.0           0.000010   \n3      0.0            0.0      NaN           0.0           0.000010   \n4      0.0            0.0     10.0           0.0           0.000010   \n5      0.0            0.0      8.0           0.0           0.000010   \n6      0.0            0.0      8.0           0.0           0.000010   \n7      0.0            0.0      NaN           0.0           0.000010   \n8      0.0            0.0      4.0           0.0           0.000010   \n9      0.0            0.0      NaN           0.0           0.000010   \n10     0.0            0.0      1.0           0.0           0.000010   \n11     0.0            0.0     11.0           0.0           0.000010   \n12     0.0            0.0      1.0           0.0           0.000010   \n13     0.0            0.0      6.0           0.0           0.000010   \n14     0.0            0.0      7.0           0.0           0.000010   \n15     0.0            0.0     10.0           0.0           0.000010   \n16     0.0            0.0     10.0           0.0           0.000010   \n17     0.0            0.0      4.0           0.0           0.000010   \n18     0.0            0.0     92.0           0.0           0.000010   \n19     0.0            0.0      1.0           0.0           0.000010   \n20     0.0            0.0      8.0           0.0           0.000010   \n21     0.0            0.0     25.0           0.0           0.000010   \n22     0.0            0.0     20.0           0.0           0.000010   \n23     0.0            0.0      1.0           0.0           0.000010   \n24     0.0            0.0      2.0           0.0           0.000010   \n25     0.0            0.0      3.0           0.0           0.000010   \n26     0.0            0.0      3.0           0.0           0.000010   \n27     0.0            0.0     50.0           0.0           0.000010   \n28     0.0            0.0     67.0           0.0           0.000010   \n29     0.0            0.0     21.0           0.0           0.000010   \n30     0.0            0.0     52.0           0.0           0.000010   \n31     0.0            0.0     64.0           0.0           0.000010   \n32     0.0            0.0    156.0           0.0           0.000010   \n33     0.0            0.0     79.0           0.0           0.000010   \n34     0.0            0.0    390.0           0.0           0.000010   \n35     0.0            0.0    625.0           0.0           0.000010   \n36     0.0            0.0   1710.0           0.0           0.000010   \n37     0.0            0.0   1442.0           0.0           0.000010   \n38     0.0            0.0   8595.0           0.0           0.000010   \n39     0.0            0.0  10206.0           0.0           0.000010   \n40     0.0            0.0  21357.0           0.0           0.015635   \n41     0.0            0.0   8417.0           0.0           0.062509   \n42     0.0            0.0  12125.0           0.0           0.062509   \n43     0.0            0.0   3999.0           0.0           0.125009   \n44     0.0            0.0   4475.0           0.0           0.125009   \n45     0.0            0.0   1530.0           0.0           0.125009   \n46     0.0            0.0   2510.0           0.0           0.125009   \n47     0.0            0.0    757.0           0.0           0.250007   \n48     0.0            0.0   2944.0           0.0           0.250007   \n49     0.0            0.0   1495.0           0.0           0.250007   \n50     0.0            0.0   1028.0           0.0           0.250007   \n\n    inTheMoney contractSize currency  \n0         True      REGULAR      USD  \n1         True      REGULAR      USD  \n2         True      REGULAR      USD  \n3         True      REGULAR      USD  \n4         True      REGULAR      USD  \n5         True      REGULAR      USD  \n6         True      REGULAR      USD  \n7         True      REGULAR      USD  \n8         True      REGULAR      USD  \n9         True      REGULAR      USD  \n10        True      REGULAR      USD  \n11        True      REGULAR      USD  \n12        True      REGULAR      USD  \n13        True      REGULAR      USD  \n14        True      REGULAR      USD  \n15        True      REGULAR      USD  \n16        True      REGULAR      USD  \n17        True      REGULAR      USD  \n18        True      REGULAR      USD  \n19        True      REGULAR      USD  \n20        True      REGULAR      USD  \n21        True      REGULAR      USD  \n22        True      REGULAR      USD  \n23        True      REGULAR      USD  \n24        True      REGULAR      USD  \n25        True      REGULAR      USD  \n26        True      REGULAR      USD  \n27        True      REGULAR      USD  \n28        True      REGULAR      USD  \n29        True      REGULAR      USD  \n30        True      REGULAR      USD  \n31        True      REGULAR      USD  \n32        True      REGULAR      USD  \n33        True      REGULAR      USD  \n34        True      REGULAR      USD  \n35        True      REGULAR      USD  \n36        True      REGULAR      USD  \n37        True      REGULAR      USD  \n38        True      REGULAR      USD  \n39        True      REGULAR      USD  \n40       False      REGULAR      USD  \n41       False      REGULAR      USD  \n42       False      REGULAR      USD  \n43       False      REGULAR      USD  \n44       False      REGULAR      USD  \n45       False      REGULAR      USD  \n46       False      REGULAR      USD  \n47       False      REGULAR      USD  \n48       False      REGULAR      USD  \n49       False      REGULAR      USD  \n50       False      REGULAR      USD  , puts=         contractSymbol       lastTradeDate  strike  lastPrice  bid  ask  \\\n0   MSFT200424P00100000 2020-04-17 15:21:48   100.0       0.01  0.0  0.0   \n1   MSFT200424P00101000 2020-04-07 17:37:31   101.0       0.01  0.0  0.0   \n2   MSFT200424P00102000 2020-03-26 19:48:43   102.0       0.55  0.0  0.0   \n3   MSFT200424P00104000 2020-04-01 19:45:51   104.0       0.45  0.0  0.0   \n4   MSFT200424P00105000 2020-04-03 19:28:46   105.0       0.21  0.0  0.0   \n..                  ...                 ...     ...        ...  ...  ...   \n66  MSFT200424P00195000 2020-04-17 19:39:05   195.0      17.57  0.0  0.0   \n67  MSFT200424P00197500 2020-04-20 04:11:41   197.5      18.10  0.0  0.0   \n68  MSFT200424P00200000 2020-04-17 19:59:39   200.0      21.80  0.0  0.0   \n69  MSFT200424P00202500 2020-04-20 04:11:42   202.5      23.95  0.0  0.0   \n70  MSFT200424P00205000 2020-04-20 04:11:42   205.0      26.40  0.0  0.0   \n\n    change  percentChange  volume  openInterest  impliedVolatility  \\\n0      0.0            0.0     1.0           0.0           0.500005   \n1      0.0            0.0     1.0           0.0           0.500005   \n2      0.0            0.0     NaN           0.0           0.500005   \n3      0.0            0.0     1.0           0.0           0.500005   \n4      0.0            0.0     1.0           0.0           0.500005   \n..     ...            ...     ...           ...                ...   \n66     0.0            0.0     8.0           0.0           0.000010   \n67     0.0            0.0     NaN           NaN           0.000010   \n68     0.0            0.0    24.0           0.0           0.000010   \n69     0.0            0.0     NaN           NaN           0.000010   \n70     0.0            0.0     NaN           NaN           0.000010   \n\n    inTheMoney contractSize currency  \n0        False      REGULAR      USD  \n1        False      REGULAR      USD  \n2        False      REGULAR      USD  \n3        False      REGULAR      USD  \n4        False      REGULAR      USD  \n..         ...          ...      ...  \n66        True      REGULAR      USD  \n67        True      REGULAR      USD  \n68        True      REGULAR      USD  \n69        True      REGULAR      USD  \n70        True      REGULAR      USD  \n\n[71 rows x 14 columns])\n",
          "name": "stdout"
        }
      ]
    },
    {
      "metadata": {
        "trusted": true
      },
      "cell_type": "code",
      "source": "\ntickers = yf.Tickers('msft aapl goog')\n# ^ returns a named tuple of Ticker objects\n\n# access each ticker using (example)\ntickers.msft.info\ntickers.aapl.history(period=\"1mo\")\ntickers.goog.actions",
      "execution_count": null,
      "outputs": []
    },
    {
      "metadata": {
        "trusted": true
      },
      "cell_type": "code",
      "source": "data = yf.download(\"SPY AAPL\", start=\"2017-01-01\", end=\"2017-04-30\")\n\ndata = yf.download(  # or pdr.get_data_yahoo(...\n        # tickers list or string as well\n        tickers = \"SPY AAPL MSFT\",\n\n        # use \"period\" instead of start/end\n        # valid periods: 1d,5d,1mo,3mo,6mo,1y,2y,5y,10y,ytd,max\n        # (optional, default is '1mo')\n        period = \"ytd\",\n\n        # fetch data by interval (including intraday if period < 60 days)\n        # valid intervals: 1m,2m,5m,15m,30m,60m,90m,1h,1d,5d,1wk,1mo,3mo\n        # (optional, default is '1d')\n        interval = \"1m\",\n\n        # group by ticker (to access via data['SPY'])\n        # (optional, default is 'column')\n        group_by = 'ticker',\n\n        # adjust all OHLC automatically\n        # (optional, default is False)\n        auto_adjust = True,\n\n        # download pre/post regular market hours data\n        # (optional, default is False)\n        prepost = True,\n\n        # use threads for mass downloading? (True/False/Integer)\n        # (optional, default is True)\n        threads = True,\n\n        # proxy URL scheme use use when downloading?\n        # (optional, default is None)\n        proxy = None\n    )",
      "execution_count": 10,
      "outputs": [
        {
          "output_type": "stream",
          "text": "[*********************100%***********************]  2 of 2 completed\n[*********************100%***********************]  3 of 3 completed\n\n3 Failed downloads:\n- SPY: 1m data not available for startTime=1577875784 and endTime=1587379784. Only 7 days worth of 1m granularity data are allowed to be fetched per request.\n- MSFT: 1m data not available for startTime=1577875784 and endTime=1587379784. Only 7 days worth of 1m granularity data are allowed to be fetched per request.\n- AAPL: 1m data not available for startTime=1577875785 and endTime=1587379785. Only 7 days worth of 1m granularity data are allowed to be fetched per request.\n",
          "name": "stdout"
        }
      ]
    },
    {
      "metadata": {
        "trusted": true
      },
      "cell_type": "code",
      "source": "import yfinance \n\ndata = yfinance.download(\"MSFT\",  interval = \"5m\",start=\"2020-02-01\", end=\"2020-03-01\")\nIm_Data = backtrader.feeds.PandasData(dataname=data)",
      "execution_count": 11,
      "outputs": [
        {
          "output_type": "stream",
          "text": "[*********************100%***********************]  1 of 1 completed\n\n1 Failed download:\n- MSFT: 5m data not available for startTime=1580515200 and endTime=1583020800. The requested range must be within the last 60 days.\n",
          "name": "stdout"
        }
      ]
    },
    {
      "metadata": {
        "trusted": true
      },
      "cell_type": "code",
      "source": "",
      "execution_count": null,
      "outputs": []
    },
    {
      "metadata": {
        "trusted": true
      },
      "cell_type": "code",
      "source": "Cerebro_Object = backtrader.Cerebro()\n\nCerebro_Object.addstrategy(Class_For_Build_Customize_Object)\nCerebro_Object.adddata(Im_Data)\n\n#Cerebro_Object.datas[0]\nprint(Cerebro_Object.datas[0])\nprint(type(Cerebro_Object.datas[0]))\nprint(\"== dir ==\")\nprint(dir(Cerebro_Object.datas[0]))\nprint(\"== vars ==\")\nprint(vars(Cerebro_Object.datas[0]))\n\n#Cerebro_Object.run()",
      "execution_count": 14,
      "outputs": [
        {
          "output_type": "stream",
          "text": "<backtrader.feeds.pandafeed.PandasData object at 0x7fe6e574cc50>\n<class 'backtrader.feeds.pandafeed.PandasData'>\n== dir ==\n['CONNBROKEN', 'CONNECTED', 'Close', 'DELAYED', 'DISCONNECTED', 'DateTime', 'High', 'IndType', 'LIVE', 'LineOrder', 'Low', 'NOTSUBSCRIBED', 'NOTSUPPORTED_TF', 'ObsType', 'Open', 'OpenInterest', 'StratType', 'UNKNOWN', 'Volume', '_NOTIFNAMES', '_OwnerCls', '__abs__', '__add__', '__bool__', '__call__', '__class__', '__delattr__', '__dict__', '__dir__', '__div__', '__doc__', '__eq__', '__floordiv__', '__format__', '__ge__', '__getattr__', '__getattribute__', '__getitem__', '__gt__', '__hash__', '__init__', '__init_subclass__', '__le__', '__len__', '__lt__', '__module__', '__mul__', '__ne__', '__neg__', '__new__', '__nonzero__', '__pow__', '__radd__', '__rdiv__', '__reduce__', '__reduce_ex__', '__repr__', '__rfloordiv__', '__rmul__', '__rpow__', '__rsub__', '__rtruediv__', '__setattr__', '__setitem__', '__sizeof__', '__str__', '__sub__', '__subclasshook__', '__truediv__', '__weakref__', '_add2stack', '_barstack', '_barstash', '_check', '_clone', '_colmapping', '_compensate', '_compression', '_dataname', '_env', '_feed', '_ffilters', '_filters', '_fromstack', '_getline', '_getnexteos', '_getstatusname', '_gettz', '_gettzinput', '_id', '_last', '_load', '_makeoperation', '_makeoperationown', '_minperiod', '_name', '_operation', '_operation_stage1', '_operation_stage2', '_operationown', '_operationown_stage1', '_operationown_stage2', '_opstage', '_owner', '_plotlabel', '_qcheck', '_roperation', '_save2stack', '_stage1', '_stage2', '_start', '_start_finish', '_started', '_store', '_tick_fill', '_tick_nullify', '_timeframe', '_timeoffset', '_tmoffset', '_updatebar', 'addfilter', 'addfilter_simple', 'addminperiod', 'advance', 'advance_peek', 'alias', 'aliased', 'array', 'backwards', 'clone', 'compensate', 'copyas', 'csv', 'datafields', 'date2num', 'do_qcheck', 'extend', 'forward', 'frompackages', 'get_notifications', 'getenvironment', 'getfeed', 'getwriterheaders', 'getwriterinfo', 'getwritervalues', 'haslivedata', 'home', 'incminperiod', 'islive', 'l', 'line', 'line0', 'line1', 'line2', 'line3', 'line4', 'line5', 'line6', 'line_0', 'line_1', 'line_2', 'line_3', 'line_4', 'line_5', 'line_6', 'linealias', 'lines', 'load', 'minbuffer', 'next', 'nextstart', 'notifs', 'num2date', 'once', 'oncestart', 'p', 'packages', 'params', 'plotinfo', 'plotlabel', 'plotlines', 'preload', 'prenext', 'preonce', 'put_notification', 'qbuffer', 'replay', 'replaying', 'resample', 'resampling', 'reset', 'rewind', 'setenvironment', 'setminperiod', 'start', 'stop', 'updateminperiod']\n== vars ==\n{'params': <backtrader.metabase.AutoInfoClass_LineRoot_LineMultiple_LineSeries_DataSeries_OHLC_OHLCDateTime_AbstractDataBase_DataBase_PandasData object at 0x7fe6e574cf98>, 'p': <backtrader.metabase.AutoInfoClass_LineRoot_LineMultiple_LineSeries_DataSeries_OHLC_OHLCDateTime_AbstractDataBase_DataBase_PandasData object at 0x7fe6e574cf98>, '_owner': None, 'plotinfo': <backtrader.metabase.AutoInfoClass_pi_LineSeries_pi_DataSeries_pi_OHLC_pi_OHLCDateTime_pi_AbstractDataBase_pi_DataBase_pi_PandasData object at 0x7fe6e5b08e10>, 'lines': <backtrader.lineseries.Lines_LineSeries_DataSeries_OHLC_OHLCDateTime_AbstractDataBase_DataBase_PandasData object at 0x7fe6e574c6a0>, 'plotlines': <backtrader.metabase.AutoInfoClass_pl_LineSeries_pl_DataSeries_pl_OHLC_pl_OHLCDateTime_pl_AbstractDataBase_pl_DataBase_pl_PandasData object at 0x7fe6e574cc88>, 'l': <backtrader.lineseries.Lines_LineSeries_DataSeries_OHLC_OHLCDateTime_AbstractDataBase_DataBase_PandasData object at 0x7fe6e574c6a0>, 'line': <backtrader.linebuffer.LineBuffer object at 0x7fe6e574c6d8>, 'line_0': <backtrader.linebuffer.LineBuffer object at 0x7fe6e574c6d8>, 'line0': <backtrader.linebuffer.LineBuffer object at 0x7fe6e574c6d8>, 'line_1': <backtrader.linebuffer.LineBuffer object at 0x7fe6e574cd68>, 'line1': <backtrader.linebuffer.LineBuffer object at 0x7fe6e574cd68>, 'line_2': <backtrader.linebuffer.LineBuffer object at 0x7fe6e574cfd0>, 'line2': <backtrader.linebuffer.LineBuffer object at 0x7fe6e574cfd0>, 'line_3': <backtrader.linebuffer.LineBuffer object at 0x7fe6e574cb38>, 'line3': <backtrader.linebuffer.LineBuffer object at 0x7fe6e574cb38>, 'line_4': <backtrader.linebuffer.LineBuffer object at 0x7fe6e77df390>, 'line4': <backtrader.linebuffer.LineBuffer object at 0x7fe6e77df390>, 'line_5': <backtrader.linebuffer.LineBuffer object at 0x7fe6e77df3c8>, 'line5': <backtrader.linebuffer.LineBuffer object at 0x7fe6e77df3c8>, 'line_6': <backtrader.linebuffer.LineBuffer object at 0x7fe6e77df400>, 'line6': <backtrader.linebuffer.LineBuffer object at 0x7fe6e77df400>, '_feed': None, 'notifs': deque([]), '_dataname': Empty DataFrame\nColumns: [Open, High, Low, Close, Adj Close, Volume]\nIndex: [], '_name': '', '_colmapping': {'close': 'Close', 'low': 'Low', 'high': 'High', 'open': 'Open', 'volume': 'Volume', 'openinterest': None, 'datetime': None}, '_compression': 1, '_timeframe': 5, '_barstack': deque([]), '_barstash': deque([]), '_filters': [], '_ffilters': [], '_id': 1, '_env': <backtrader.cerebro.Cerebro object at 0x7fe6e77ef7f0>}\n",
          "name": "stdout"
        }
      ]
    },
    {
      "metadata": {
        "trusted": true
      },
      "cell_type": "code",
      "source": "",
      "execution_count": null,
      "outputs": []
    }
  ],
  "metadata": {
    "kernelspec": {
      "name": "python36",
      "display_name": "Python 3.6",
      "language": "python"
    },
    "language_info": {
      "mimetype": "text/x-python",
      "nbconvert_exporter": "python",
      "name": "python",
      "pygments_lexer": "ipython3",
      "version": "3.6.6",
      "file_extension": ".py",
      "codemirror_mode": {
        "version": 3,
        "name": "ipython"
      }
    }
  },
  "nbformat": 4,
  "nbformat_minor": 2
}