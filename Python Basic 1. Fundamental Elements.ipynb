{
  "cells": [
    {
      "metadata": {
        "trusted": true
      },
      "cell_type": "code",
      "source": "# String\n# 練習使用字串",
      "execution_count": 3,
      "outputs": []
    },
    {
      "metadata": {
        "trusted": true
      },
      "cell_type": "code",
      "source": "# 將 \"Your Name\" 指派給 name 變數\nName = \"hello\"\n# 讓python 印出 name 變數的值\nprint(Name)\nprint(type(Name))\nprint(Name+Name)\n\nprint(\"----------------\")\nName = 123\n# 讓python 印出 name 變數的值\nprint(Name)\nprint(type(Name))\nprint(Name+Name)",
      "execution_count": 8,
      "outputs": [
        {
          "output_type": "stream",
          "text": "hello\n<class 'str'>\nhellohello\n----------------\n123\n<class 'int'>\n246\n",
          "name": "stdout"
        }
      ]
    },
    {
      "metadata": {
        "trusted": true
      },
      "cell_type": "code",
      "source": "# 將 \"123\" 指派為變數String1的值\nString1 = \"123\"\nprint(String1)\nprint(type(String1))\nprint(String1 + String1)\nprint(\"----------------\")\n# 將 \"123\" 指派為變數String2的值\nString2 = 123 \nprint(String2)\nprint(type(String2))\nprint(String2 + String2)",
      "execution_count": 10,
      "outputs": [
        {
          "output_type": "stream",
          "text": "123\n<class 'str'>\n123123\n----------------\n123\n<class 'int'>\n246\n",
          "name": "stdout"
        }
      ]
    },
    {
      "metadata": {
        "trusted": true
      },
      "cell_type": "code",
      "source": "",
      "execution_count": null,
      "outputs": []
    },
    {
      "metadata": {
        "trusted": true
      },
      "cell_type": "code",
      "source": "# Interger & Float\n# 練習使用 整數 浮點數",
      "execution_count": 7,
      "outputs": []
    },
    {
      "metadata": {
        "trusted": true
      },
      "cell_type": "code",
      "source": "# 將 123 指派給 number 變數\nnumber = 123\n# 讓python 印出 number 變數的值\nprint(number)\nprint(type(number))",
      "execution_count": 11,
      "outputs": [
        {
          "output_type": "stream",
          "text": "123\n<class 'int'>\n",
          "name": "stdout"
        }
      ]
    },
    {
      "metadata": {
        "trusted": true
      },
      "cell_type": "code",
      "source": "# 設整數與浮點數值\nInterger_number = 1234\nFloating_number = 1234.5 \n# 顯示整數值與型態\nprint(Interger_number)\nprint(type(Interger_number))\n# 顯示浮點數值與型態\nprint(Floating_number)\nprint(type(Floating_number))\n\n# 顯示混合運算後之值與型態\nprint(Interger_number + Floating_number)\nprint(type(Interger_number + Floating_number))",
      "execution_count": 12,
      "outputs": [
        {
          "output_type": "stream",
          "text": "1234\n<class 'int'>\n1234.5\n<class 'float'>\n2468.5\n<class 'float'>\n",
          "name": "stdout"
        }
      ]
    },
    {
      "metadata": {
        "trusted": true
      },
      "cell_type": "code",
      "source": "# Boolean & Byte\n# 練習使用真假值和byte",
      "execution_count": 1,
      "outputs": []
    },
    {
      "metadata": {
        "trusted": true
      },
      "cell_type": "code",
      "source": "# Boolean & Byte\n# 練習使用真假值和byte\nprint(\"1\" == \"1\")\nprint(1 == \"1\")\nprint(str(1) == \"1\")\nprint(0 == False)\nprint(0 == True)\nprint(1 == False)\nprint(1 == True)\n\nprint(1 > 0)\nprint(1 < 0)\n\nprint(True and True)\nprint(True and False)\nprint(True or True)\nprint(True or False)",
      "execution_count": 13,
      "outputs": [
        {
          "output_type": "stream",
          "text": "True\nTrue\nTrue\nTrue\nFalse\nFalse\nTrue\nTrue\nFalse\nTrue\nFalse\nTrue\nTrue\n",
          "name": "stdout"
        }
      ]
    },
    {
      "metadata": {
        "trusted": true
      },
      "cell_type": "code",
      "source": "# List\n# 練習使用list（List）",
      "execution_count": null,
      "outputs": []
    },
    {
      "metadata": {
        "trusted": true
      },
      "cell_type": "code",
      "source": "# 建立list\nI_AM_List = [1234,\"2234\",3234,4234,[3234,4234]]\nprint(I_AM_List)\nprint(I_AM_List[1])\n# 使用 append 增加字串內容\nI_AM_List.append(5234)\nprint(I_AM_List)\n# 將list修改為整數\nI_AM_List[1] = 2234\nprint(I_AM_List)\n\n# 指定list內容\nprint(I_AM_List[1:3])\n\n# 修改list內容為line\nprint(\"改字串內容為line\")\nI_AM_List[2] = 1234\nprint(I_AM_List)\n\n# 修改list內容為string\nprint(\"改字串內容為string\")\nI_AM_List[1] = \"一二三四\"\nprint(I_AM_List)\n\n# 修改list內容為list\nprint(\"改字串內容為list\")\nI_AM_List[3] = [1,2,3]\nprint(I_AM_List)",
      "execution_count": 14,
      "outputs": [
        {
          "output_type": "stream",
          "text": "[1234, '2234', 3234, 4234, [3234, 4234]]\n2234\n[1234, '2234', 3234, 4234, [3234, 4234], 5234]\n[1234, 2234, 3234, 4234, [3234, 4234], 5234]\n[2234, 3234]\n改字串內容為line\n[1234, 2234, 1234, 4234, [3234, 4234], 5234]\n改字串內容為string\n[1234, '一二三四', 1234, 4234, [3234, 4234], 5234]\n改字串內容為list\n[1234, '一二三四', 1234, [1, 2, 3], [3234, 4234], 5234]\n",
          "name": "stdout"
        }
      ]
    },
    {
      "metadata": {
        "trusted": true
      },
      "cell_type": "code",
      "source": "# Dictionary\n# 練習使用字典（Dictionary）",
      "execution_count": null,
      "outputs": []
    },
    {
      "metadata": {
        "trusted": true
      },
      "cell_type": "code",
      "source": "# 創立字典檔\nI_AM_Dict = {\"A\":1234, \"B\":123.45, \"C\":\"I am string\", \"D\":True, \"list_name\":I_AM_List, \"2234\":1234 }",
      "execution_count": 10,
      "outputs": []
    },
    {
      "metadata": {
        "trusted": true
      },
      "cell_type": "code",
      "source": "# 顯示字典檔案\nprint(I_AM_Dict)\nprint(type(I_AM_Dict))\n#顯示指定欄位之值\nprint(I_AM_Dict[\"B\"])\nprint(type(I_AM_Dict[\"B\"]))\n#顯示指定欄位之值\nI_AM_Dict[\"A\"] = 5678\nprint(I_AM_Dict[\"A\"])",
      "execution_count": 11,
      "outputs": [
        {
          "output_type": "stream",
          "text": "{'A': 1234, 'B': 123.45, 'C': 'I am string', 'D': True, 'list_name': [1234, '一二三四', 1234, [1, 2, 3], 5234], '2234': 1234}\n<class 'dict'>\n123.45\n<class 'float'>\n5678\n",
          "name": "stdout"
        }
      ]
    },
    {
      "metadata": {
        "trusted": true
      },
      "cell_type": "code",
      "source": "",
      "execution_count": null,
      "outputs": []
    },
    {
      "metadata": {
        "trusted": true
      },
      "cell_type": "code",
      "source": "",
      "execution_count": null,
      "outputs": []
    },
    {
      "metadata": {
        "trusted": true
      },
      "cell_type": "code",
      "source": "",
      "execution_count": null,
      "outputs": []
    },
    {
      "metadata": {
        "trusted": true
      },
      "cell_type": "code",
      "source": "# Byte\n# 練習使用 byte",
      "execution_count": null,
      "outputs": []
    },
    {
      "metadata": {
        "trusted": true
      },
      "cell_type": "code",
      "source": "print(\"哈囉Hello! 安*安*你*好 顆顆cc\".encode(\"big5\"))\nprint(\"哈囉Hello! 安*安*你*好 顆顆cc\".encode(\"utf8\"))\nprint(b\"Hello! an* an* ni* hau cc \")\nprint(b'\\xab\\xa2\\xc5oHello! \\xa6w*\\xa6w*\\xa7A*\\xa6n \\xc1\\xfb\\xc1\\xfbcc'.hex())\nprint(b'\\xe5\\x93\\x88\\xe5\\x9b\\x89Hello! \\xe5\\xae\\x89*\\xe5\\xae\\x89*\\xe4\\xbd\\xa0*\\xe5\\xa5\\xbd \\xe9\\xa1\\x86\\xe9\\xa1\\x86cc'.hex())\nprint(b'Hello! an* an* ni* hau cc '.hex())\nprint(bytes.fromhex('aba2c56f48656c6c6f2120a6772aa6772aa7412aa66e20c1fbc1fb6363'))\nprint(bytes.fromhex('e59388e59b8948656c6c6f2120e5ae892ae5ae892ae4bda02ae5a5bd20e9a186e9a1866363'))\nprint(bytes.fromhex('48656c6c6f2120616e2a20616e2a206e692a2068617520636320'))",
      "execution_count": 1,
      "outputs": [
        {
          "output_type": "stream",
          "text": "b'\\xab\\xa2\\xc5oHello! \\xa6w*\\xa6w*\\xa7A*\\xa6n \\xc1\\xfb\\xc1\\xfbcc'\nb'\\xe5\\x93\\x88\\xe5\\x9b\\x89Hello! \\xe5\\xae\\x89*\\xe5\\xae\\x89*\\xe4\\xbd\\xa0*\\xe5\\xa5\\xbd \\xe9\\xa1\\x86\\xe9\\xa1\\x86cc'\nb'Hello! an* an* ni* hau cc '\naba2c56f48656c6c6f2120a6772aa6772aa7412aa66e20c1fbc1fb6363\ne59388e59b8948656c6c6f2120e5ae892ae5ae892ae4bda02ae5a5bd20e9a186e9a1866363\n48656c6c6f2120616e2a20616e2a206e692a2068617520636320\nb'\\xab\\xa2\\xc5oHello! \\xa6w*\\xa6w*\\xa7A*\\xa6n \\xc1\\xfb\\xc1\\xfbcc'\nb'\\xe5\\x93\\x88\\xe5\\x9b\\x89Hello! \\xe5\\xae\\x89*\\xe5\\xae\\x89*\\xe4\\xbd\\xa0*\\xe5\\xa5\\xbd \\xe9\\xa1\\x86\\xe9\\xa1\\x86cc'\nb'Hello! an* an* ni* hau cc '\n",
          "name": "stdout"
        }
      ]
    },
    {
      "metadata": {
        "trusted": true
      },
      "cell_type": "code",
      "source": "print(b\"hello\")\nprint(b\"hello\".hex())\nprint(b\"\\x68\\x65\\x6c\\x6c\\x6f\")",
      "execution_count": 111,
      "outputs": [
        {
          "output_type": "stream",
          "text": "b'hello'\n68656c6c6f\nb'hello'\n",
          "name": "stdout"
        }
      ]
    },
    {
      "metadata": {
        "trusted": true
      },
      "cell_type": "code",
      "source": "print(\"哈囉\".encode(\"big5\"))\nprint(\"哈囉\".encode(\"utf8\"))\nprint(\"Hello\".encode(\"utf8\"))\nprint(b'\\xab\\xa2\\xc5o'.decode(\"big5\"))",
      "execution_count": 98,
      "outputs": [
        {
          "output_type": "stream",
          "text": "b'\\xab\\xa2\\xc5o'\nb'\\xe5\\x93\\x88\\xe5\\x9b\\x89'\nb'Hello'\n",
          "name": "stdout"
        }
      ]
    },
    {
      "metadata": {
        "trusted": true
      },
      "cell_type": "code",
      "source": "import pandas \n\nclass Byte_Vitualization_Pannel:\n    \n    Bytes_Format_File = b\"\"\n    Encode_Format_File = \"\"\n    columns = [hex(i) for i in range(16)]\n    Bytes_Pannel = pandas.DataFrame(columns=[hex(i) for i in range(16)])\n    \n    __init__(self , Biytes_Format_File_Input, Encode_Format_File_Input):\n        \n        self.Biytes_Format_File = Biytes_Format_File_Input\n        self.Encode_Format_File = Encode_Format_File_Input\n    \n    \n    def Show_Bytes(self):\n        \n        Byte_String = Bytes_Format_File.hex()\n        string = \"sdjfhlaksjdfhaklsjdfhkalsjdfhklasdf\"\n        byte_string for byte_string in range(0, string, 2):\n            print()\n        \n \nI_Am_Columns = [hex(i) for i in range(16)]\n\nstring = \"sdjfhlaksjdfhaklsjdfhkalsjdfhklasdf\"\nIndex_List = [index for index in range(0, len(string),16)]\nprint(Index_List)\nBytes_Pannel = pandas.DataFrame(columns=I_Am_Columns, index = Index_List)\nBytes_Pannel\nprint(Bytes_Pannel)\n",
      "execution_count": null,
      "outputs": []
    }
  ],
  "metadata": {
    "kernelspec": {
      "name": "python36",
      "display_name": "Python 3.6",
      "language": "python"
    },
    "language_info": {
      "mimetype": "text/x-python",
      "nbconvert_exporter": "python",
      "name": "python",
      "pygments_lexer": "ipython3",
      "version": "3.6.6",
      "file_extension": ".py",
      "codemirror_mode": {
        "version": 3,
        "name": "ipython"
      }
    }
  },
  "nbformat": 4,
  "nbformat_minor": 2
}