{
  "cells": [
    {
      "metadata": {
        "trusted": true
      },
      "cell_type": "code",
      "source": "Variable_A = 1\nVariable_B = 1",
      "execution_count": 7,
      "outputs": []
    },
    {
      "metadata": {
        "trusted": true
      },
      "cell_type": "code",
      "source": "print(id(Variable_A))\nprint(id(Variable_B))",
      "execution_count": 8,
      "outputs": [
        {
          "output_type": "stream",
          "text": "94826273630752\n94826273630752\n",
          "name": "stdout"
        }
      ]
    },
    {
      "metadata": {
        "trusted": true
      },
      "cell_type": "code",
      "source": "Variable_C = 2\nVariable_D = 3",
      "execution_count": 9,
      "outputs": []
    },
    {
      "metadata": {
        "trusted": true
      },
      "cell_type": "code",
      "source": "print(id(Variable_C))\nprint(id(Variable_D))",
      "execution_count": 10,
      "outputs": [
        {
          "output_type": "stream",
          "text": "94826273630784\n94826273630816\n",
          "name": "stdout"
        }
      ]
    },
    {
      "metadata": {
        "trusted": true
      },
      "cell_type": "code",
      "source": "Variable_D = \"I am a very long string I am a very long string I am a very long string I am a very long string\"",
      "execution_count": 29,
      "outputs": []
    },
    {
      "metadata": {
        "trusted": true
      },
      "cell_type": "code",
      "source": "print(id(Variable_D))",
      "execution_count": 30,
      "outputs": [
        {
          "output_type": "stream",
          "text": "140076854552016\n",
          "name": "stdout"
        }
      ]
    },
    {
      "metadata": {
        "trusted": true
      },
      "cell_type": "code",
      "source": "Variable_D = \"I am a very long string I am a very long string I am a very long string I am a very long string 2 \"",
      "execution_count": 31,
      "outputs": []
    },
    {
      "metadata": {
        "trusted": true
      },
      "cell_type": "code",
      "source": "print(id(Variable_D))",
      "execution_count": 32,
      "outputs": [
        {
          "output_type": "stream",
          "text": "140076851304272\n",
          "name": "stdout"
        }
      ]
    },
    {
      "metadata": {
        "trusted": true
      },
      "cell_type": "code",
      "source": "print(id(\"I am a very long string I am a very long string I am a very long string I am a very long string\"))\nprint(id(\"I am a very long string I am a very long string I am a very long string I am a very long string 2 \"))",
      "execution_count": 33,
      "outputs": [
        {
          "output_type": "stream",
          "text": "140076854552016\n140076850108392\n",
          "name": "stdout"
        }
      ]
    },
    {
      "metadata": {
        "trusted": true
      },
      "cell_type": "code",
      "source": "def Show_MemoryPosition (Iteration_Input):\n    Variable_D = 0\n    for counter in range(Iteration_Input):\n        \n        print(counter)\n        print(id(counter))\n        Variable_D = counter*1234567498\n        print(Variable_D)\n        print(id(Variable_D))\n\nShow_MemoryPosition(5)",
      "execution_count": 18,
      "outputs": [
        {
          "output_type": "stream",
          "text": "0\n94826273630720\n0\n94826273630720\n1\n94826273630752\n1234567498\n140076851048000\n2\n94826273630784\n2469134996\n140076851047080\n3\n94826273630816\n3703702494\n140076851048000\n4\n94826273630848\n4938269992\n140076851047080\n",
          "name": "stdout"
        }
      ]
    },
    {
      "metadata": {
        "trusted": true
      },
      "cell_type": "code",
      "source": "",
      "execution_count": null,
      "outputs": []
    }
  ],
  "metadata": {
    "kernelspec": {
      "name": "python36",
      "display_name": "Python 3.6",
      "language": "python"
    },
    "language_info": {
      "mimetype": "text/x-python",
      "nbconvert_exporter": "python",
      "name": "python",
      "pygments_lexer": "ipython3",
      "version": "3.6.6",
      "file_extension": ".py",
      "codemirror_mode": {
        "version": 3,
        "name": "ipython"
      }
    }
  },
  "nbformat": 4,
  "nbformat_minor": 2
}