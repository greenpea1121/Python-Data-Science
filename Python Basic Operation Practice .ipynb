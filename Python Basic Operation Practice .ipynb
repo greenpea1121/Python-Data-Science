{
  "cells": [
    {
      "metadata": {
        "trusted": true
      },
      "cell_type": "code",
      "source": "# 練習題",
      "execution_count": null,
      "outputs": []
    },
    {
      "metadata": {
        "trusted": true
      },
      "cell_type": "code",
      "source": "# operators\n# 基礎運算子練習\nprint(1+1)\nprint(\"1+1\")\nprint(2*5)\nprint(\"2*5\")\nprint(\"2\"*5)\n",
      "execution_count": 5,
      "outputs": [
        {
          "output_type": "stream",
          "text": "2\n1+1\n10\n2*5\n22222\n10.032520325203253\n4\n120\n1860867\n",
          "name": "stdout"
        }
      ]
    },
    {
      "metadata": {
        "trusted": true
      },
      "cell_type": "code",
      "source": "# operators\n# 基礎運算子練習\nprint(1234/123)\nprint(1234%123)\nprint(123^3)\nprint(123**3)",
      "execution_count": null,
      "outputs": []
    },
    {
      "metadata": {
        "trusted": true
      },
      "cell_type": "code",
      "source": "# Condictions\n# 基礎運算子練習 條件判斷\na = 1\nb = 2\n\nprint(b == 2.1)\nprint(a == 1)\n\nprint(b == 2.1 or a == 1)\nprint(b == 2.1 and a == 1)",
      "execution_count": 3,
      "outputs": [
        {
          "output_type": "stream",
          "text": "False\nTrue\nTrue\nFalse\n",
          "name": "stdout"
        }
      ]
    },
    {
      "metadata": {
        "trusted": true
      },
      "cell_type": "code",
      "source": "# If Condiction\n# 練習if\nage = 2\n\nprint(\"你家狗狗的年龄\")\n\nif age < 0:\n    print(\"業障重!\")\nelif age == 1:\n    print(\" 相當於 14 歲的人。\")\nelif age == 2:\n    print(\" 相當於 22 歲的人。\")\nelif age > 2:\n    human = 22 + (age -2)*5\n    print(\" 相當於{}歲的人。: \".format(human))",
      "execution_count": 6,
      "outputs": [
        {
          "output_type": "stream",
          "text": "你家狗狗的年龄\n 相當於 22 歲的人。\n",
          "name": "stdout"
        }
      ]
    },
    {
      "metadata": {
        "trusted": true
      },
      "cell_type": "code",
      "source": "# Loop",
      "execution_count": null,
      "outputs": []
    },
    {
      "metadata": {
        "trusted": true
      },
      "cell_type": "code",
      "source": "# For Loop\n# 練習For Loop\nfor loop_number in range(10):\n    print(loop_number)\n\nString_List = [\"hello world 1234\", \"hello world 2234\",\"hello world 2 \",\"hello world 3 \"]    \n    \nfor loop_string in String_List:\n    print(loop_string)    \n\nfor loop_string in String_List[0]:\n    print(loop_string)\n    \n\nlist_close_price = [20, 21, 22, 19, 25]\nfind_highest_price = 0\n\nfor loop_number in list_close_price:\n    \n    if loop_number > find_highest_price:\n        find_highest_price = loop_number\n    \n    print(loop_number)\n    print(loop_number)",
      "execution_count": 10,
      "outputs": [
        {
          "output_type": "stream",
          "text": "0\n1\n2\n3\n4\n5\n6\n7\n8\n9\nhello world 1234\nhello world 2234\nhello world 2 \nhello world 3 \nh\ne\nl\nl\no\n \nw\no\nr\nl\nd\n \n1\n2\n3\n4\n20\n20\n21\n21\n22\n22\n19\n19\n25\n25\n",
          "name": "stdout"
        }
      ]
    },
    {
      "metadata": {
        "trusted": true
      },
      "cell_type": "code",
      "source": "# 練習函式\ndef Im_function():\n\n    list_close_price = [20, 21, 22, 19, 25,18,17,26,10,8]\n    find_highest_price = 0\n    \n    for loop_number in list_close_price:\n        \n        if loop_number > find_highest_price:\n            find_highest_price = loop_number\n            \n        print(\"hight\")\n        print(find_highest_price)\n        print(\"day close\")\n        print(loop_number)",
      "execution_count": 15,
      "outputs": []
    },
    {
      "metadata": {
        "trusted": true
      },
      "cell_type": "code",
      "source": "Im_function()",
      "execution_count": 16,
      "outputs": [
        {
          "output_type": "stream",
          "text": "hight\n20\nday close\n20\nhight\n21\nday close\n21\nhight\n22\nday close\n22\nhight\n22\nday close\n19\nhight\n25\nday close\n25\nhight\n25\nday close\n18\nhight\n25\nday close\n17\nhight\n26\nday close\n26\nhight\n26\nday close\n10\nhight\n26\nday close\n8\n",
          "name": "stdout"
        }
      ]
    },
    {
      "metadata": {
        "trusted": true
      },
      "cell_type": "code",
      "source": "# While Loop\n# 練習While Loop\nprint(\"While loop\")\nn = 5\n\nwhile n > 0:\n    n = n - 1\n    print(n)\n    \nprint('循環結束。')\n\nprint(\"Continue\")\nn = 5\nwhile n > 0:\n    n = n - 1\n    if n == 2:\n        continue\n    print(n)\nprint('循環結束。')\n\nprint(\"Break\")\nn = 5\nwhile n > 0:\n    n = n - 1\n    if n == 2:\n        break\n    print(n)\nprint('循環結束。')",
      "execution_count": 15,
      "outputs": [
        {
          "output_type": "stream",
          "text": "While loop\n4\n3\n2\n1\n0\n循環結束。\nContinue\n循環結束。\nBreak\n循環結束。\n",
          "name": "stdout"
        }
      ]
    },
    {
      "metadata": {
        "trusted": true
      },
      "cell_type": "code",
      "source": "#pip install pyautogui",
      "execution_count": null,
      "outputs": []
    },
    {
      "metadata": {
        "trusted": true
      },
      "cell_type": "code",
      "source": "import pyautogui\n\n# 獲取當下點座標\nprint(pyautogui.position())\n# 在螢幕上查詢匹配與檔案相同的區域--每個區域畫素都要相同 左,頂,寬,高\npyautogui.locateOnScreen('submit.png')  \n# 獲取匹配影象中心點座標\npyautogui.center(pyautogui.locateOnScreen('submit.png'))\n\nup_down = 0\nleft_right = 0\n\npyautogui.moveTo(up_down,left_right,duration=1)\npyautogui.moveRel(up_down,left_right,duration=1) \npyautogui.dragTo(up_down, left_right, duration=1, button='left')\npyautogui.dragRel(up_down,left_right,duration=1)\npyautogui.click(up_down,left_right)  \n\n\n# 寫一隻簡單掛網路程式\n\n# 輸入需要反應的螢幕圖像名稱\npicture_list = [\"submit1.png\",\"submit2.png\",\"submit3.png\",\"submit4.png\",\"submit5.png\"]\n# 輸入需要拖曳至之螢幕圖像名稱\npicture_drag_into = \"drag_to_this_image.png\"\n\n# 跑無限迴圈掛網\nwhile Ture : \n    \n    # 遍歷所有需要反應的螢幕圖像\n    for dealing_picture in picture_list :\n        \n        #取得該反應的螢幕圖像座標\n        position_up_down , position_left_right = pyautogui.center(pyautogui.locateOnScreen(dealing_picture))\n        #將滑鼠移動至該螢幕圖像座標\n        pyautogui.moveTo(position_up_down,position_left_right,duration=5)\n        #點擊滑鼠\n        pyautogui.click()  \n        \n        #取得需要拖曳至之螢幕圖像座標\n        drag_position_up_down , drag_position_left_right = pyautogui.center(pyautogui.locateOnScreen(picture_drag_into))\n        #拖曳該反應的螢幕圖像座標點 至 需要拖曳至知螢幕圖像座標\n        pyautogui.dragTo(drag_position_up_down, drag_position_left_right, duration=5, button='left')\n    \n    \n    ",
      "execution_count": null,
      "outputs": []
    }
  ],
  "metadata": {
    "kernelspec": {
      "name": "python36",
      "display_name": "Python 3.6",
      "language": "python"
    },
    "language_info": {
      "mimetype": "text/x-python",
      "nbconvert_exporter": "python",
      "name": "python",
      "pygments_lexer": "ipython3",
      "version": "3.6.6",
      "file_extension": ".py",
      "codemirror_mode": {
        "version": 3,
        "name": "ipython"
      }
    }
  },
  "nbformat": 4,
  "nbformat_minor": 2
}