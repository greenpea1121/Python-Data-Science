{
  "cells": [
    {
      "metadata": {
        "trusted": true,
        "scrolled": true
      },
      "cell_type": "code",
      "source": "#numpy\nimport numpy as np\n\n#產生陣列\na=np.array([10,20,30,40]) # array([10, 20, 30, 40])\nprint(a)\nprint(type(a))\n\n#快速產生\nb=np.arange(4)              # array([0, 1, 2, 3])\nprint(b)\n\n#陣列相互運算\nc=a-b  # array([10, 19, 28, 37])\nprint(c)\nprint(type(c))\nc=a+b   # array([10, 21, 32, 43])\nprint(c)\nc=a*b   # array([  0,  20,  60, 120])\nprint(c)\n#陣列比較運算\nprint(b<2)  \n# array([ True,  True,  True, False], dtype=bool)\n\n\n#產生多維陣列\na=np.array([[1,1],[0,1]])\nprint(a)\n# array([[1, 1],\n#       [0, 1]])\n\n#使用 reshap\nb=np.arange(4).reshape((2,2))\nprint(b)\n# array([[0, 1],\n#       [2, 3]])\n\n\nA = np.arange(2,14).reshape((3,4)) \n\n# array([[ 2, 3, 4, 5]\n#        [ 6, 7, 8, 9]\n#        [10,11,12,13]])\nprint(A)\nprint(np.argmin(A))    # 0\nprint(np.argmax(A))    # 11",
      "execution_count": 5,
      "outputs": [
        {
          "output_type": "stream",
          "text": "[10 20 30 40]\n<class 'numpy.ndarray'>\n[0 1 2 3]\n[10 19 28 37]\n<class 'numpy.ndarray'>\n[10 21 32 43]\n[  0  20  60 120]\n[ True  True False False]\n[[1 1]\n [0 1]]\n[[0 1]\n [2 3]]\n[[ 2  3  4  5]\n [ 6  7  8  9]\n [10 11 12 13]]\n0\n11\n",
          "name": "stdout"
        }
      ]
    },
    {
      "metadata": {
        "trusted": true
      },
      "cell_type": "code",
      "source": "#pandas\nimport pandas\n\ndates = pandas.date_range('20130101', periods=6)\ndf = pandas.DataFrame(np.arange(24).reshape((6,4)),index=dates, columns=['A','B','C','D'])\nprint(df)\n\n#使用名稱列出欄位資料\nprint(df['A'])\nprint(df.A)\n\n#使用位置列出列資料\nprint(df[0:3])\nprint(df['20130102':'20130104'])\n\n#適用loc鎖定資料名稱\nprint(df.loc['20130102'])\nprint(df.loc[:,['A','B']]) \nprint(df.loc['20130102',['A','B']])\n\n#適用iloc鎖定資料位置\nprint(df.iloc[3,1])\nprint(df.iloc[3:5,1:3])\nprint(df.iloc[[1,3,5],1:3])\n\n\ndf.to_csv(\"IO_Practice_Folder/save_csv.csv\")\npandas.read_csv(\"IO_Practice_Folder/save_csv.csv\")",
      "execution_count": 6,
      "outputs": [
        {
          "output_type": "stream",
          "text": "             A   B   C   D\n2013-01-01   0   1   2   3\n2013-01-02   4   5   6   7\n2013-01-03   8   9  10  11\n2013-01-04  12  13  14  15\n2013-01-05  16  17  18  19\n2013-01-06  20  21  22  23\n2013-01-01     0\n2013-01-02     4\n2013-01-03     8\n2013-01-04    12\n2013-01-05    16\n2013-01-06    20\nFreq: D, Name: A, dtype: int64\n2013-01-01     0\n2013-01-02     4\n2013-01-03     8\n2013-01-04    12\n2013-01-05    16\n2013-01-06    20\nFreq: D, Name: A, dtype: int64\n            A  B   C   D\n2013-01-01  0  1   2   3\n2013-01-02  4  5   6   7\n2013-01-03  8  9  10  11\n             A   B   C   D\n2013-01-02   4   5   6   7\n2013-01-03   8   9  10  11\n2013-01-04  12  13  14  15\nA    4\nB    5\nC    6\nD    7\nName: 2013-01-02 00:00:00, dtype: int64\n             A   B\n2013-01-01   0   1\n2013-01-02   4   5\n2013-01-03   8   9\n2013-01-04  12  13\n2013-01-05  16  17\n2013-01-06  20  21\nA    4\nB    5\nName: 2013-01-02 00:00:00, dtype: int64\n13\n             B   C\n2013-01-04  13  14\n2013-01-05  17  18\n             B   C\n2013-01-02   5   6\n2013-01-04  13  14\n2013-01-06  21  22\n",
          "name": "stdout"
        },
        {
          "output_type": "execute_result",
          "execution_count": 6,
          "data": {
            "text/html": "<div>\n<style scoped>\n    .dataframe tbody tr th:only-of-type {\n        vertical-align: middle;\n    }\n\n    .dataframe tbody tr th {\n        vertical-align: top;\n    }\n\n    .dataframe thead th {\n        text-align: right;\n    }\n</style>\n<table border=\"1\" class=\"dataframe\">\n  <thead>\n    <tr style=\"text-align: right;\">\n      <th></th>\n      <th>Unnamed: 0</th>\n      <th>A</th>\n      <th>B</th>\n      <th>C</th>\n      <th>D</th>\n    </tr>\n  </thead>\n  <tbody>\n    <tr>\n      <th>0</th>\n      <td>2013-01-01</td>\n      <td>0</td>\n      <td>1</td>\n      <td>2</td>\n      <td>3</td>\n    </tr>\n    <tr>\n      <th>1</th>\n      <td>2013-01-02</td>\n      <td>4</td>\n      <td>5</td>\n      <td>6</td>\n      <td>7</td>\n    </tr>\n    <tr>\n      <th>2</th>\n      <td>2013-01-03</td>\n      <td>8</td>\n      <td>9</td>\n      <td>10</td>\n      <td>11</td>\n    </tr>\n    <tr>\n      <th>3</th>\n      <td>2013-01-04</td>\n      <td>12</td>\n      <td>13</td>\n      <td>14</td>\n      <td>15</td>\n    </tr>\n    <tr>\n      <th>4</th>\n      <td>2013-01-05</td>\n      <td>16</td>\n      <td>17</td>\n      <td>18</td>\n      <td>19</td>\n    </tr>\n    <tr>\n      <th>5</th>\n      <td>2013-01-06</td>\n      <td>20</td>\n      <td>21</td>\n      <td>22</td>\n      <td>23</td>\n    </tr>\n  </tbody>\n</table>\n</div>",
            "text/plain": "   Unnamed: 0   A   B   C   D\n0  2013-01-01   0   1   2   3\n1  2013-01-02   4   5   6   7\n2  2013-01-03   8   9  10  11\n3  2013-01-04  12  13  14  15\n4  2013-01-05  16  17  18  19\n5  2013-01-06  20  21  22  23"
          },
          "metadata": {}
        }
      ]
    },
    {
      "metadata": {
        "trusted": true
      },
      "cell_type": "code",
      "source": "",
      "execution_count": null,
      "outputs": []
    }
  ],
  "metadata": {
    "kernelspec": {
      "name": "python36",
      "display_name": "Python 3.6",
      "language": "python"
    },
    "language_info": {
      "mimetype": "text/x-python",
      "nbconvert_exporter": "python",
      "name": "python",
      "pygments_lexer": "ipython3",
      "version": "3.6.6",
      "file_extension": ".py",
      "codemirror_mode": {
        "version": 3,
        "name": "ipython"
      }
    }
  },
  "nbformat": 4,
  "nbformat_minor": 2
}