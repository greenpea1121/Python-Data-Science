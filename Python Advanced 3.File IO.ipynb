{
  "cells": [
    {
      "metadata": {
        "trusted": true
      },
      "cell_type": "code",
      "source": "\nwith open('IO_Practice_Folder/IO_Practice_File.txt', 'r+') as I_am_file:\n\n    print(\"I_am_file : \")\n    print(I_am_file)\n    print(type(I_am_file))\n    print(id(I_am_file))\n    \n    read_data = I_am_file.read()\n    print(\"read_data : \" + read_data)\n    print(type(read_data))\n    print(id(read_data))\n    \n    I_am_file.write('This is a testing line - write plus\\n')\n\n        \n    I_am_file.close()\n    ",
      "execution_count": 1,
      "outputs": [
        {
          "output_type": "stream",
          "text": "I_am_file : \n<_io.TextIOWrapper name='IO_Practice_Folder/IO_Practice_File.txt' mode='r+' encoding='UTF-8'>\n<class '_io.TextIOWrapper'>\n139629453682008\nread_data : This is a testing line - write plus\n\n<class 'str'>\n139629453104472\n",
          "name": "stdout"
        }
      ]
    },
    {
      "metadata": {
        "trusted": true
      },
      "cell_type": "code",
      "source": "\nwith open('IO_Practice_Folder/IO_Practice_File.txt', 'w+') as I_am_file:\n\n    print(\"I_am_file : \")\n    print(I_am_file)\n    print(type(I_am_file))\n    print(id(I_am_file))\n    \n    read_data = I_am_file.read()\n    print(\"read_data : \" + read_data)\n    print(type(read_data))\n    print(id(read_data))\n    \n    I_am_file.write('This is a testing line - write plus\\n')\n\n        \n    I_am_file.close()\n    ",
      "execution_count": 1,
      "outputs": [
        {
          "output_type": "stream",
          "text": "I_am_file : \n<_io.TextIOWrapper name='IO_Practice_Folder/IO_Practice_File.txt' mode='w+' encoding='UTF-8'>\n<class '_io.TextIOWrapper'>\n140207291929944\nread_data : \n<class 'str'>\n140207354636976\n",
          "name": "stdout"
        }
      ]
    },
    {
      "metadata": {
        "trusted": true
      },
      "cell_type": "code",
      "source": "",
      "execution_count": null,
      "outputs": []
    }
  ],
  "metadata": {
    "kernelspec": {
      "name": "python36",
      "display_name": "Python 3.6",
      "language": "python"
    },
    "language_info": {
      "mimetype": "text/x-python",
      "nbconvert_exporter": "python",
      "name": "python",
      "pygments_lexer": "ipython3",
      "version": "3.6.6",
      "file_extension": ".py",
      "codemirror_mode": {
        "version": 3,
        "name": "ipython"
      }
    }
  },
  "nbformat": 4,
  "nbformat_minor": 2
}